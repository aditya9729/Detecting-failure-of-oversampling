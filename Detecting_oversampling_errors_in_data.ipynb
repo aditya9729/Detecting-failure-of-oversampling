{
  "nbformat": 4,
  "nbformat_minor": 0,
  "metadata": {
    "colab": {
      "name": "Detecting oversampling errors in data.ipynb",
      "provenance": [],
      "collapsed_sections": []
    },
    "kernelspec": {
      "name": "python3",
      "display_name": "Python 3"
    },
    "accelerator": "GPU"
  },
  "cells": [
    {
      "cell_type": "code",
      "metadata": {
        "id": "EV2H6MagCW62",
        "colab_type": "code",
        "outputId": "085ac5f7-7da5-486c-9c06-fe5110663358",
        "colab": {
          "base_uri": "https://localhost:8080/",
          "height": 142
        }
      },
      "source": [
        "from google.colab import drive\n",
        "drive.mount('/content/drive/')\n",
        "import os\n",
        "print(os.getcwd())"
      ],
      "execution_count": 0,
      "outputs": [
        {
          "output_type": "stream",
          "text": [
            "Go to this URL in a browser: https://accounts.google.com/o/oauth2/auth?client_id=947318989803-6bn6qk8qdgf4n4g3pfee6491hc0brc4i.apps.googleusercontent.com&redirect_uri=urn%3Aietf%3Awg%3Aoauth%3A2.0%3Aoob&scope=email%20https%3A%2F%2Fwww.googleapis.com%2Fauth%2Fdocs.test%20https%3A%2F%2Fwww.googleapis.com%2Fauth%2Fdrive%20https%3A%2F%2Fwww.googleapis.com%2Fauth%2Fdrive.photos.readonly%20https%3A%2F%2Fwww.googleapis.com%2Fauth%2Fpeopleapi.readonly&response_type=code\n",
            "\n",
            "Enter your authorization code:\n",
            "··········\n",
            "Mounted at /content/drive/\n",
            "/content\n"
          ],
          "name": "stdout"
        }
      ]
    },
    {
      "cell_type": "code",
      "metadata": {
        "id": "nBtr0dt_Dfe1",
        "colab_type": "code",
        "colab": {}
      },
      "source": [
        "os.chdir('../content/')"
      ],
      "execution_count": 0,
      "outputs": []
    },
    {
      "cell_type": "code",
      "metadata": {
        "id": "WYBze3fPDqD5",
        "colab_type": "code",
        "outputId": "32fc94e6-602a-40bf-8eb4-ee8998095c78",
        "colab": {
          "base_uri": "https://localhost:8080/",
          "height": 228
        }
      },
      "source": [
        "%ls"
      ],
      "execution_count": 0,
      "outputs": [
        {
          "output_type": "stream",
          "text": [
            " altitude_latlong.csv\n",
            " census_2011.csv\n",
            " \u001b[0m\u001b[01;34mdrive\u001b[0m/\n",
            "'Final Population Data - AI for Earth - Sheet1.csv'\n",
            " humidity.csv\n",
            " pollution.csv\n",
            " population_state_district.csv\n",
            " rainfall.csv\n",
            " \u001b[01;34msample_data\u001b[0m/\n",
            " state_district_mapping_with_latlong.csv\n",
            " TBdata.csv\n",
            " temperature.csv\n"
          ],
          "name": "stdout"
        }
      ]
    },
    {
      "cell_type": "markdown",
      "metadata": {
        "id": "pKN1DaGAEXSi",
        "colab_type": "text"
      },
      "source": [
        "## Let's first import all the libraries required for preprocessing analysis, cleaning as well as for visualisation of our datasets."
      ]
    },
    {
      "cell_type": "code",
      "metadata": {
        "id": "QrkjR3SkEUWz",
        "colab_type": "code",
        "colab": {}
      },
      "source": [
        "import pandas as pd\n",
        "import numpy as np\n",
        "import seaborn as sns\n",
        "import matplotlib.pyplot as plt"
      ],
      "execution_count": 0,
      "outputs": []
    },
    {
      "cell_type": "markdown",
      "metadata": {
        "id": "GogwX0yHE4IQ",
        "colab_type": "text"
      },
      "source": [
        "***Let's read in our datasets, which are stored as comma seperated files***"
      ]
    },
    {
      "cell_type": "code",
      "metadata": {
        "id": "2d_0AQQUUodk",
        "colab_type": "code",
        "colab": {}
      },
      "source": [
        "import glob"
      ],
      "execution_count": 0,
      "outputs": []
    },
    {
      "cell_type": "code",
      "metadata": {
        "id": "6weZQ67HEnBo",
        "colab_type": "code",
        "outputId": "4e3e6a27-335b-4a0d-ca30-b8b7c0846b35",
        "colab": {
          "base_uri": "https://localhost:8080/",
          "height": 54
        }
      },
      "source": [
        "\n",
        "files=[i for i in glob.glob('*.csv')]\n",
        "print(files)\n",
        "state_mapping_with_coords=pd.read_csv(files[0],header=None)\n",
        "altitude_latlong=pd.read_csv(files[1])\n",
        "census_2011=pd.read_csv(files[2])\n",
        "final_population=pd.read_csv(files[3])\n",
        "tb=pd.read_csv(files[4])\n",
        "pop_state_dist=pd.read_csv(files[5])\n",
        "temperature=pd.read_csv(files[6])\n",
        "pollution=pd.read_csv(files[7])\n",
        "rainfall=pd.read_csv(files[8])\n",
        "humidity=pd.read_csv(files[9])"
      ],
      "execution_count": 0,
      "outputs": [
        {
          "output_type": "stream",
          "text": [
            "['state_district_mapping_with_latlong.csv', 'altitude_latlong.csv', 'census_2011.csv', 'Final Population Data - AI for Earth - Sheet1.csv', 'TBdata.csv', 'population_state_district.csv', 'temperature.csv', 'pollution.csv', 'rainfall.csv', 'humidity.csv']\n"
          ],
          "name": "stdout"
        }
      ]
    },
    {
      "cell_type": "code",
      "metadata": {
        "id": "JC2abesiUIrT",
        "colab_type": "code",
        "outputId": "c877056e-7898-4cfb-a58e-dffb65a09a4c",
        "colab": {
          "base_uri": "https://localhost:8080/",
          "height": 280
        }
      },
      "source": [
        "print(state_mapping_with_coords.head())\n",
        "state_mapping_with_coords.columns=['state','district','latitude','longitude']\n",
        "print('******************************************************************')\n",
        "print('Here the column names have been added:')\n",
        "print('******************************************************************')\n",
        "print(state_mapping_with_coords.head())"
      ],
      "execution_count": 0,
      "outputs": [
        {
          "output_type": "stream",
          "text": [
            "                     0                1          2          3\n",
            "0  Andaman and Nicobar  Andaman Islands  12.382571  92.822911\n",
            "1  Andaman and Nicobar  Nicobar Islands   7.835291  93.511601\n",
            "2       Andhra Pradesh         Adilabad  19.284514  78.813212\n",
            "3       Andhra Pradesh        Anantapur  14.312066  77.460158\n",
            "4       Andhra Pradesh         Chittoor  13.331093  78.927639\n",
            "******************************************************************\n",
            "Here the column names have been added:\n",
            "******************************************************************\n",
            "                 state         district   latitude  longitude\n",
            "0  Andaman and Nicobar  Andaman Islands  12.382571  92.822911\n",
            "1  Andaman and Nicobar  Nicobar Islands   7.835291  93.511601\n",
            "2       Andhra Pradesh         Adilabad  19.284514  78.813212\n",
            "3       Andhra Pradesh        Anantapur  14.312066  77.460158\n",
            "4       Andhra Pradesh         Chittoor  13.331093  78.927639\n"
          ],
          "name": "stdout"
        }
      ]
    },
    {
      "cell_type": "code",
      "metadata": {
        "id": "eGHGXfTAVWm_",
        "colab_type": "code",
        "outputId": "3a11ace1-a151-4b5c-cbd4-2b79e7664fcd",
        "colab": {
          "base_uri": "https://localhost:8080/",
          "height": 351
        }
      },
      "source": [
        "print(state_mapping_with_coords.describe())\n",
        "print('******************************************************************')\n",
        "state_mapping_with_coords.info()"
      ],
      "execution_count": 0,
      "outputs": [
        {
          "output_type": "stream",
          "text": [
            "         latitude   longitude\n",
            "count  594.000000  594.000000\n",
            "mean    23.215872   81.100989\n",
            "std      5.743757    6.245789\n",
            "min      7.835291   68.821923\n",
            "25%     20.570902   76.414526\n",
            "50%     24.478686   79.429121\n",
            "75%     26.861661   85.312213\n",
            "max     34.599235   96.596708\n",
            "******************************************************************\n",
            "<class 'pandas.core.frame.DataFrame'>\n",
            "RangeIndex: 594 entries, 0 to 593\n",
            "Data columns (total 4 columns):\n",
            "state        594 non-null object\n",
            "district     594 non-null object\n",
            "latitude     594 non-null float64\n",
            "longitude    594 non-null float64\n",
            "dtypes: float64(2), object(2)\n",
            "memory usage: 18.6+ KB\n"
          ],
          "name": "stdout"
        }
      ]
    },
    {
      "cell_type": "code",
      "metadata": {
        "id": "J2vkPMCNX5q7",
        "colab_type": "code",
        "outputId": "55e099a2-7de6-401c-c3b1-83c4eb73eb5d",
        "colab": {
          "base_uri": "https://localhost:8080/",
          "height": 720
        }
      },
      "source": [
        "print('The number of states are:',state_mapping_with_coords.state.nunique())\n",
        "print('The number of districts in individual states are:')\n",
        "print(state_mapping_with_coords.state.value_counts())\n",
        "print(\"****************************************************\")\n",
        "print('The number of districts are:',state_mapping_with_coords.district.nunique())"
      ],
      "execution_count": 0,
      "outputs": [
        {
          "output_type": "stream",
          "text": [
            "The number of states are: 35\n",
            "The number of districts in individual states are:\n",
            "Uttar Pradesh             70\n",
            "Madhya Pradesh            48\n",
            "Bihar                     37\n",
            "Maharashtra               34\n",
            "Rajasthan                 32\n",
            "Tamil Nadu                30\n",
            "Orissa                    30\n",
            "Karnataka                 27\n",
            "Gujarat                   25\n",
            "Assam                     23\n",
            "Andhra Pradesh            23\n",
            "Jharkhand                 22\n",
            "Haryana                   19\n",
            "West Bengal               19\n",
            "Punjab                    17\n",
            "Chhattisgarh              16\n",
            "Arunachal Pradesh         15\n",
            "Kerala                    14\n",
            "Jammu and Kashmir         14\n",
            "Uttaranchal               13\n",
            "Himachal Pradesh          12\n",
            "Manipur                    9\n",
            "Mizoram                    8\n",
            "Nagaland                   8\n",
            "Meghalaya                  7\n",
            "Sikkim                     4\n",
            "Puducherry                 4\n",
            "Tripura                    4\n",
            "Daman and Diu              2\n",
            "Goa                        2\n",
            "Andaman and Nicobar        2\n",
            "Chandigarh                 1\n",
            "Dadra and Nagar Haveli     1\n",
            "Lakshadweep                1\n",
            "Delhi                      1\n",
            "Name: state, dtype: int64\n",
            "****************************************************\n",
            "The number of districts are: 589\n"
          ],
          "name": "stdout"
        }
      ]
    },
    {
      "cell_type": "code",
      "metadata": {
        "id": "Knd5Q5nkYYqd",
        "colab_type": "code",
        "outputId": "32847fb8-c6e7-45ea-8c2d-4b4e6e3167c4",
        "colab": {
          "base_uri": "https://localhost:8080/",
          "height": 632
        }
      },
      "source": [
        "plt.figure(figsize=(15,10))\n",
        "sns.set_style('darkgrid')\n",
        "sns.scatterplot(x='longitude',y='latitude',data=state_mapping_with_coords,hue='state',legend='brief')\n",
        "plt.legend(loc='upper left')\n",
        "sns.despine(left=True)\n",
        "plt.show()\n"
      ],
      "execution_count": 0,
      "outputs": [
        {
          "output_type": "display_data",
          "data": {
            "image/png": "[encoded data removed]",
            "text/plain": [
              "<Figure size 1080x720 with 1 Axes>"
            ]
          },
          "metadata": {
            "tags": []
          }
        }
      ]
    },
    {
      "cell_type": "code",
      "metadata": {
        "id": "eCDGWkwVaoFG",
        "colab_type": "code",
        "outputId": "0da33cec-6f05-4da1-d93c-3374ba8dd9c7",
        "colab": {
          "base_uri": "https://localhost:8080/",
          "height": 323
        }
      },
      "source": [
        "print('Our features in TB data are:', list(tb.columns))\n",
        "print('*************************************************')\n",
        "print('The shape of tb data is:',tb.shape)\n",
        "print('*************************************************')\n",
        "tb.head()"
      ],
      "execution_count": 0,
      "outputs": [
        {
          "output_type": "stream",
          "text": [
            "Our features in TB data are: ['State', 'District', 'Pop.Covered', 'Totalcasestreated', 'detectionrate\\nAnnualized\\nTotal', 'treated\\nNewS+ve\\ncases', 'detectionrate\\nAnnualized\\nsmear+ve', 'quarterno.', 'year', 'Latitude', 'Longitude']\n",
            "*************************************************\n",
            "The shape of tb data is: (20270, 11)\n",
            "*************************************************\n"
          ],
          "name": "stdout"
        },
        {
          "output_type": "execute_result",
          "data": {
            "text/html": [
              "<div>\n",
              "<style scoped>\n",
              "    .dataframe tbody tr th:only-of-type {\n",
              "        vertical-align: middle;\n",
              "    }\n",
              "\n",
              "    .dataframe tbody tr th {\n",
              "        vertical-align: top;\n",
              "    }\n",
              "\n",
              "    .dataframe thead th {\n",
              "        text-align: right;\n",
              "    }\n",
              "</style>\n",
              "<table border=\"1\" class=\"dataframe\">\n",
              "  <thead>\n",
              "    <tr style=\"text-align: right;\">\n",
              "      <th></th>\n",
              "      <th>State</th>\n",
              "      <th>District</th>\n",
              "      <th>Pop.Covered</th>\n",
              "      <th>Totalcasestreated</th>\n",
              "      <th>detectionrate\n",
              "Annualized\n",
              "Total</th>\n",
              "      <th>treated\n",
              "NewS+ve\n",
              "cases</th>\n",
              "      <th>detectionrate\n",
              "Annualized\n",
              "smear+ve</th>\n",
              "      <th>quarterno.</th>\n",
              "      <th>year</th>\n",
              "      <th>Latitude</th>\n",
              "      <th>Longitude</th>\n",
              "    </tr>\n",
              "  </thead>\n",
              "  <tbody>\n",
              "    <tr>\n",
              "      <th>0</th>\n",
              "      <td>ANDAMANNICOBAR</td>\n",
              "      <td>ANDAMANNICOBAR</td>\n",
              "      <td>4.0</td>\n",
              "      <td>221</td>\n",
              "      <td>224.0</td>\n",
              "      <td>57</td>\n",
              "      <td>0.77</td>\n",
              "      <td>2006</td>\n",
              "      <td>1</td>\n",
              "      <td>12.36718</td>\n",
              "      <td>92.924179</td>\n",
              "    </tr>\n",
              "    <tr>\n",
              "      <th>1</th>\n",
              "      <td>ANDAMANNICOBAR</td>\n",
              "      <td>ANDAMANNICOBARISLANDS</td>\n",
              "      <td>4.0</td>\n",
              "      <td>262</td>\n",
              "      <td>268.0</td>\n",
              "      <td>91</td>\n",
              "      <td>1.24</td>\n",
              "      <td>2005</td>\n",
              "      <td>4</td>\n",
              "      <td>12.36718</td>\n",
              "      <td>92.924179</td>\n",
              "    </tr>\n",
              "    <tr>\n",
              "      <th>2</th>\n",
              "      <td>ANDAMANNICOBAR</td>\n",
              "      <td>ANDAMANNICOBARISLANDS</td>\n",
              "      <td>4.0</td>\n",
              "      <td>252</td>\n",
              "      <td>256.0</td>\n",
              "      <td>82</td>\n",
              "      <td>1.11</td>\n",
              "      <td>2006</td>\n",
              "      <td>4</td>\n",
              "      <td>12.36718</td>\n",
              "      <td>92.924179</td>\n",
              "    </tr>\n",
              "    <tr>\n",
              "      <th>3</th>\n",
              "      <td>ANDAMANNICOBAR</td>\n",
              "      <td>ANDAMANNICOBARISLANDS</td>\n",
              "      <td>4.0</td>\n",
              "      <td>238</td>\n",
              "      <td>242.0</td>\n",
              "      <td>77</td>\n",
              "      <td>1.04</td>\n",
              "      <td>2006</td>\n",
              "      <td>2</td>\n",
              "      <td>12.36718</td>\n",
              "      <td>92.924179</td>\n",
              "    </tr>\n",
              "    <tr>\n",
              "      <th>4</th>\n",
              "      <td>ANDAMANNICOBAR</td>\n",
              "      <td>ANDAMANNICOBARISLANDS</td>\n",
              "      <td>4.0</td>\n",
              "      <td>209</td>\n",
              "      <td>212.0</td>\n",
              "      <td>58</td>\n",
              "      <td>0.79</td>\n",
              "      <td>2006</td>\n",
              "      <td>3</td>\n",
              "      <td>12.36718</td>\n",
              "      <td>92.924179</td>\n",
              "    </tr>\n",
              "  </tbody>\n",
              "</table>\n",
              "</div>"
            ],
            "text/plain": [
              "            State               District  Pop.Covered  Totalcasestreated  \\\n",
              "0  ANDAMANNICOBAR         ANDAMANNICOBAR          4.0                221   \n",
              "1  ANDAMANNICOBAR  ANDAMANNICOBARISLANDS          4.0                262   \n",
              "2  ANDAMANNICOBAR  ANDAMANNICOBARISLANDS          4.0                252   \n",
              "3  ANDAMANNICOBAR  ANDAMANNICOBARISLANDS          4.0                238   \n",
              "4  ANDAMANNICOBAR  ANDAMANNICOBARISLANDS          4.0                209   \n",
              "\n",
              "   detectionrate\\nAnnualized\\nTotal  treated\\nNewS+ve\\ncases  \\\n",
              "0                             224.0                       57   \n",
              "1                             268.0                       91   \n",
              "2                             256.0                       82   \n",
              "3                             242.0                       77   \n",
              "4                             212.0                       58   \n",
              "\n",
              "  detectionrate\\nAnnualized\\nsmear+ve  quarterno.  year  Latitude  Longitude  \n",
              "0                                0.77        2006     1  12.36718  92.924179  \n",
              "1                                1.24        2005     4  12.36718  92.924179  \n",
              "2                                1.11        2006     4  12.36718  92.924179  \n",
              "3                                1.04        2006     2  12.36718  92.924179  \n",
              "4                                0.79        2006     3  12.36718  92.924179  "
            ]
          },
          "metadata": {
            "tags": []
          },
          "execution_count": 88
        }
      ]
    },
    {
      "cell_type": "code",
      "metadata": {
        "id": "lO9FW47Ob4i7",
        "colab_type": "code",
        "outputId": "0fbb0477-5bb5-4520-cb79-eac7a620f341",
        "colab": {
          "base_uri": "https://localhost:8080/",
          "height": 344
        }
      },
      "source": [
        "tb.describe()"
      ],
      "execution_count": 0,
      "outputs": [
        {
          "output_type": "execute_result",
          "data": {
            "text/html": [
              "<div>\n",
              "<style scoped>\n",
              "    .dataframe tbody tr th:only-of-type {\n",
              "        vertical-align: middle;\n",
              "    }\n",
              "\n",
              "    .dataframe tbody tr th {\n",
              "        vertical-align: top;\n",
              "    }\n",
              "\n",
              "    .dataframe thead th {\n",
              "        text-align: right;\n",
              "    }\n",
              "</style>\n",
              "<table border=\"1\" class=\"dataframe\">\n",
              "  <thead>\n",
              "    <tr style=\"text-align: right;\">\n",
              "      <th></th>\n",
              "      <th>Pop.Covered</th>\n",
              "      <th>Totalcasestreated</th>\n",
              "      <th>detectionrate\n",
              "Annualized\n",
              "Total</th>\n",
              "      <th>treated\n",
              "NewS+ve\n",
              "cases</th>\n",
              "      <th>quarterno.</th>\n",
              "      <th>year</th>\n",
              "      <th>Latitude</th>\n",
              "      <th>Longitude</th>\n",
              "    </tr>\n",
              "  </thead>\n",
              "  <tbody>\n",
              "    <tr>\n",
              "      <th>count</th>\n",
              "      <td>20269.000000</td>\n",
              "      <td>20270.000000</td>\n",
              "      <td>20259.000000</td>\n",
              "      <td>20270.000000</td>\n",
              "      <td>20270.000000</td>\n",
              "      <td>20270.000000</td>\n",
              "      <td>20270.000000</td>\n",
              "      <td>20251.000000</td>\n",
              "    </tr>\n",
              "    <tr>\n",
              "      <th>mean</th>\n",
              "      <td>18.260266</td>\n",
              "      <td>586.298421</td>\n",
              "      <td>138.598105</td>\n",
              "      <td>238.359349</td>\n",
              "      <td>2006.344894</td>\n",
              "      <td>2.530390</td>\n",
              "      <td>22.975130</td>\n",
              "      <td>80.254802</td>\n",
              "    </tr>\n",
              "    <tr>\n",
              "      <th>std</th>\n",
              "      <td>13.817178</td>\n",
              "      <td>518.238251</td>\n",
              "      <td>65.430573</td>\n",
              "      <td>203.615550</td>\n",
              "      <td>2.572371</td>\n",
              "      <td>1.117119</td>\n",
              "      <td>5.813040</td>\n",
              "      <td>6.484114</td>\n",
              "    </tr>\n",
              "    <tr>\n",
              "      <th>min</th>\n",
              "      <td>0.000000</td>\n",
              "      <td>0.000000</td>\n",
              "      <td>0.000000</td>\n",
              "      <td>0.000000</td>\n",
              "      <td>2001.000000</td>\n",
              "      <td>1.000000</td>\n",
              "      <td>7.000000</td>\n",
              "      <td>-0.698748</td>\n",
              "    </tr>\n",
              "    <tr>\n",
              "      <th>25%</th>\n",
              "      <td>9.000000</td>\n",
              "      <td>262.000000</td>\n",
              "      <td>102.000000</td>\n",
              "      <td>105.000000</td>\n",
              "      <td>2004.000000</td>\n",
              "      <td>2.000000</td>\n",
              "      <td>19.899290</td>\n",
              "      <td>76.112429</td>\n",
              "    </tr>\n",
              "    <tr>\n",
              "      <th>50%</th>\n",
              "      <td>15.000000</td>\n",
              "      <td>473.000000</td>\n",
              "      <td>127.000000</td>\n",
              "      <td>190.000000</td>\n",
              "      <td>2007.000000</td>\n",
              "      <td>3.000000</td>\n",
              "      <td>24.046131</td>\n",
              "      <td>78.146248</td>\n",
              "    </tr>\n",
              "    <tr>\n",
              "      <th>75%</th>\n",
              "      <td>25.000000</td>\n",
              "      <td>769.000000</td>\n",
              "      <td>158.000000</td>\n",
              "      <td>316.000000</td>\n",
              "      <td>2009.000000</td>\n",
              "      <td>4.000000</td>\n",
              "      <td>27.036007</td>\n",
              "      <td>84.036520</td>\n",
              "    </tr>\n",
              "    <tr>\n",
              "      <th>max</th>\n",
              "      <td>137.000000</td>\n",
              "      <td>8250.000000</td>\n",
              "      <td>1475.000000</td>\n",
              "      <td>3623.000000</td>\n",
              "      <td>2010.000000</td>\n",
              "      <td>4.000000</td>\n",
              "      <td>37.631648</td>\n",
              "      <td>96.164714</td>\n",
              "    </tr>\n",
              "  </tbody>\n",
              "</table>\n",
              "</div>"
            ],
            "text/plain": [
              "        Pop.Covered  Totalcasestreated  detectionrate\\nAnnualized\\nTotal  \\\n",
              "count  20269.000000       20270.000000                      20259.000000   \n",
              "mean      18.260266         586.298421                        138.598105   \n",
              "std       13.817178         518.238251                         65.430573   \n",
              "min        0.000000           0.000000                          0.000000   \n",
              "25%        9.000000         262.000000                        102.000000   \n",
              "50%       15.000000         473.000000                        127.000000   \n",
              "75%       25.000000         769.000000                        158.000000   \n",
              "max      137.000000        8250.000000                       1475.000000   \n",
              "\n",
              "       treated\\nNewS+ve\\ncases    quarterno.          year      Latitude  \\\n",
              "count             20270.000000  20270.000000  20270.000000  20270.000000   \n",
              "mean                238.359349   2006.344894      2.530390     22.975130   \n",
              "std                 203.615550      2.572371      1.117119      5.813040   \n",
              "min                   0.000000   2001.000000      1.000000      7.000000   \n",
              "25%                 105.000000   2004.000000      2.000000     19.899290   \n",
              "50%                 190.000000   2007.000000      3.000000     24.046131   \n",
              "75%                 316.000000   2009.000000      4.000000     27.036007   \n",
              "max                3623.000000   2010.000000      4.000000     37.631648   \n",
              "\n",
              "          Longitude  \n",
              "count  20251.000000  \n",
              "mean      80.254802  \n",
              "std        6.484114  \n",
              "min       -0.698748  \n",
              "25%       76.112429  \n",
              "50%       78.146248  \n",
              "75%       84.036520  \n",
              "max       96.164714  "
            ]
          },
          "metadata": {
            "tags": []
          },
          "execution_count": 89
        }
      ]
    },
    {
      "cell_type": "code",
      "metadata": {
        "id": "wXUR3wfwcFkY",
        "colab_type": "code",
        "outputId": "1e520b6a-47e3-43e9-bb87-5fe66679a63a",
        "colab": {
          "base_uri": "https://localhost:8080/",
          "height": 737
        }
      },
      "source": [
        "print(tb.State.value_counts()[:40])"
      ],
      "execution_count": 0,
      "outputs": [
        {
          "output_type": "stream",
          "text": [
            "UTTARPRADESH                  1954\n",
            "MAHARASHTRA                   1773\n",
            "MADHYAPRADESH                 1362\n",
            "RAJASTHAN                     1254\n",
            "TAMILNADU                     1151\n",
            "GUJARAT                       1074\n",
            "ORISSA                        1020\n",
            "KARNATAKA                      965\n",
            "BIHAR                          868\n",
            "DELHI                          844\n",
            "ANDHRAPRADESH                  816\n",
            "WESTBENGAL                     703\n",
            "ASSAM                          643\n",
            "HARYANA                        595\n",
            "JHARKHAND                      595\n",
            "KERALA                         560\n",
            "PUNJAB                         533\n",
            "HIMACHALPRADESH                471\n",
            "CHHATISGARH                    397\n",
            "ARUNACHALPRADESH               367\n",
            "JAMMUKASHMIR                   324\n",
            "MANIPUR                        322\n",
            "NAGALAND                       288\n",
            "MIZORAM                        246\n",
            "UTTARAKHAND                    208\n",
            "MEGHALAYA                      190\n",
            "UTTARANCHAL                    153\n",
            "SIKKIM                         144\n",
            "TRIPURA                         93\n",
            "CHHATTISGARH                    64\n",
            "GOA                             52\n",
            "DAMANDIU                        44\n",
            "CHANDIGARH                      33\n",
            "LAKSHADWEEP                     22\n",
            "ANDAMANNICOBAR                  21\n",
            "DNHAVELI                        18\n",
            "PUDUCHERRY                      16\n",
            "PONDICHERRY                     11\n",
            "UTTARPRADESH\\nUTTARPRADESH       7\n",
            "ASSAM\\nASSAM                     6\n",
            "Name: State, dtype: int64\n"
          ],
          "name": "stdout"
        }
      ]
    },
    {
      "cell_type": "code",
      "metadata": {
        "id": "RmDCq8mmdF2g",
        "colab_type": "code",
        "outputId": "62312880-9c41-47ba-ef98-ffb0a40be45f",
        "colab": {
          "base_uri": "https://localhost:8080/",
          "height": 1447
        }
      },
      "source": [
        "plt.figure(figsize=(25,25))\n",
        "plt.style.use('ggplot')\n",
        "tb.State.value_counts().plot(kind='barh')"
      ],
      "execution_count": 0,
      "outputs": [
        {
          "output_type": "execute_result",
          "data": {
            "text/plain": [
              "<matplotlib.axes._subplots.AxesSubplot at 0x7f039940c6a0>"
            ]
          },
          "metadata": {
            "tags": []
          },
          "execution_count": 91
        },
        {
          "output_type": "display_data",
          "data": {
            "image/png": "[encoded data removed]",
            "text/plain": [
              "<Figure size 1800x1800 with 1 Axes>"
            ]
          },
          "metadata": {
            "tags": []
          }
        }
      ]
    },
    {
      "cell_type": "code",
      "metadata": {
        "id": "XXOY7mTxeyLi",
        "colab_type": "code",
        "outputId": "a6611747-1911-4d76-d060-2d0105d0e6cf",
        "colab": {
          "base_uri": "https://localhost:8080/",
          "height": 54
        }
      },
      "source": [
        "print(plt.style.available)"
      ],
      "execution_count": 0,
      "outputs": [
        {
          "output_type": "stream",
          "text": [
            "['seaborn-bright', 'classic', 'tableau-colorblind10', 'seaborn-darkgrid', 'seaborn-pastel', '_classic_test', 'seaborn-dark-palette', 'bmh', 'seaborn-muted', 'seaborn-colorblind', 'ggplot', 'seaborn-poster', 'Solarize_Light2', 'seaborn-whitegrid', 'seaborn-deep', 'grayscale', 'seaborn-talk', 'seaborn', 'fast', 'seaborn-ticks', 'fivethirtyeight', 'seaborn-notebook', 'seaborn-dark', 'seaborn-paper', 'seaborn-white', 'dark_background']\n"
          ],
          "name": "stdout"
        }
      ]
    },
    {
      "cell_type": "code",
      "metadata": {
        "id": "WFg-tG0cfSfL",
        "colab_type": "code",
        "outputId": "27a539e7-4c01-4c05-dfad-c893b3a1eed8",
        "colab": {
          "base_uri": "https://localhost:8080/",
          "height": 228
        }
      },
      "source": [
        "tb.isna().sum()"
      ],
      "execution_count": 0,
      "outputs": [
        {
          "output_type": "execute_result",
          "data": {
            "text/plain": [
              "State                                    0\n",
              "District                                 1\n",
              "Pop.Covered                              1\n",
              "Totalcasestreated                        0\n",
              "detectionrate\\nAnnualized\\nTotal        11\n",
              "treated\\nNewS+ve\\ncases                  0\n",
              "detectionrate\\nAnnualized\\nsmear+ve    457\n",
              "quarterno.                               0\n",
              "year                                     0\n",
              "Latitude                                 0\n",
              "Longitude                               19\n",
              "dtype: int64"
            ]
          },
          "metadata": {
            "tags": []
          },
          "execution_count": 92
        }
      ]
    },
    {
      "cell_type": "code",
      "metadata": {
        "id": "J-TI31tJgTYN",
        "colab_type": "code",
        "outputId": "afbd2b51-2a52-4bfc-bf42-c6e71a85c01f",
        "colab": {
          "base_uri": "https://localhost:8080/",
          "height": 677
        }
      },
      "source": [
        "tb[tb.Longitude.isna()==True]"
      ],
      "execution_count": 0,
      "outputs": [
        {
          "output_type": "execute_result",
          "data": {
            "text/html": [
              "<div>\n",
              "<style scoped>\n",
              "    .dataframe tbody tr th:only-of-type {\n",
              "        vertical-align: middle;\n",
              "    }\n",
              "\n",
              "    .dataframe tbody tr th {\n",
              "        vertical-align: top;\n",
              "    }\n",
              "\n",
              "    .dataframe thead th {\n",
              "        text-align: right;\n",
              "    }\n",
              "</style>\n",
              "<table border=\"1\" class=\"dataframe\">\n",
              "  <thead>\n",
              "    <tr style=\"text-align: right;\">\n",
              "      <th></th>\n",
              "      <th>State</th>\n",
              "      <th>District</th>\n",
              "      <th>Pop.Covered</th>\n",
              "      <th>Totalcasestreated</th>\n",
              "      <th>detectionrate\n",
              "Annualized\n",
              "Total</th>\n",
              "      <th>treated\n",
              "NewS+ve\n",
              "cases</th>\n",
              "      <th>detectionrate\n",
              "Annualized\n",
              "smear+ve</th>\n",
              "      <th>quarterno.</th>\n",
              "      <th>year</th>\n",
              "      <th>Latitude</th>\n",
              "      <th>Longitude</th>\n",
              "    </tr>\n",
              "  </thead>\n",
              "  <tbody>\n",
              "    <tr>\n",
              "      <th>12488</th>\n",
              "      <td>MIZORAM</td>\n",
              "      <td>AIZAWL</td>\n",
              "      <td>4.0</td>\n",
              "      <td>236</td>\n",
              "      <td>259.0</td>\n",
              "      <td>58</td>\n",
              "      <td>0.85</td>\n",
              "      <td>2006</td>\n",
              "      <td>4</td>\n",
              "      <td>23.724369</td>\n",
              "      <td>NaN</td>\n",
              "    </tr>\n",
              "    <tr>\n",
              "      <th>12489</th>\n",
              "      <td>MIZORAM</td>\n",
              "      <td>AIZAWL</td>\n",
              "      <td>4.0</td>\n",
              "      <td>214</td>\n",
              "      <td>235.0</td>\n",
              "      <td>53</td>\n",
              "      <td>0.78</td>\n",
              "      <td>2006</td>\n",
              "      <td>1</td>\n",
              "      <td>23.724369</td>\n",
              "      <td>NaN</td>\n",
              "    </tr>\n",
              "    <tr>\n",
              "      <th>12490</th>\n",
              "      <td>MIZORAM</td>\n",
              "      <td>AIZAWL</td>\n",
              "      <td>4.0</td>\n",
              "      <td>258</td>\n",
              "      <td>283.0</td>\n",
              "      <td>51</td>\n",
              "      <td>0.75</td>\n",
              "      <td>2006</td>\n",
              "      <td>2</td>\n",
              "      <td>23.724369</td>\n",
              "      <td>NaN</td>\n",
              "    </tr>\n",
              "    <tr>\n",
              "      <th>12491</th>\n",
              "      <td>MIZORAM</td>\n",
              "      <td>AIZAWL</td>\n",
              "      <td>4.0</td>\n",
              "      <td>309</td>\n",
              "      <td>335.0</td>\n",
              "      <td>69</td>\n",
              "      <td>1</td>\n",
              "      <td>2007</td>\n",
              "      <td>2</td>\n",
              "      <td>23.724369</td>\n",
              "      <td>NaN</td>\n",
              "    </tr>\n",
              "    <tr>\n",
              "      <th>12492</th>\n",
              "      <td>MIZORAM</td>\n",
              "      <td>AIZAWL</td>\n",
              "      <td>4.0</td>\n",
              "      <td>269</td>\n",
              "      <td>291.0</td>\n",
              "      <td>58</td>\n",
              "      <td>0.84</td>\n",
              "      <td>2007</td>\n",
              "      <td>3</td>\n",
              "      <td>23.724369</td>\n",
              "      <td>NaN</td>\n",
              "    </tr>\n",
              "    <tr>\n",
              "      <th>12493</th>\n",
              "      <td>MIZORAM</td>\n",
              "      <td>AIZAWL</td>\n",
              "      <td>4.0</td>\n",
              "      <td>297</td>\n",
              "      <td>322.0</td>\n",
              "      <td>58</td>\n",
              "      <td>0.84</td>\n",
              "      <td>2007</td>\n",
              "      <td>4</td>\n",
              "      <td>23.724369</td>\n",
              "      <td>NaN</td>\n",
              "    </tr>\n",
              "    <tr>\n",
              "      <th>12494</th>\n",
              "      <td>MIZORAM</td>\n",
              "      <td>AIZAWL</td>\n",
              "      <td>4.0</td>\n",
              "      <td>229</td>\n",
              "      <td>248.0</td>\n",
              "      <td>48</td>\n",
              "      <td>0.69</td>\n",
              "      <td>2007</td>\n",
              "      <td>1</td>\n",
              "      <td>23.724369</td>\n",
              "      <td>NaN</td>\n",
              "    </tr>\n",
              "    <tr>\n",
              "      <th>12495</th>\n",
              "      <td>MIZORAM</td>\n",
              "      <td>AIZAWL</td>\n",
              "      <td>4.0</td>\n",
              "      <td>354</td>\n",
              "      <td>379.0</td>\n",
              "      <td>71</td>\n",
              "      <td>1.01</td>\n",
              "      <td>2008</td>\n",
              "      <td>2</td>\n",
              "      <td>23.724369</td>\n",
              "      <td>NaN</td>\n",
              "    </tr>\n",
              "    <tr>\n",
              "      <th>12496</th>\n",
              "      <td>MIZORAM</td>\n",
              "      <td>AIZAWL</td>\n",
              "      <td>4.0</td>\n",
              "      <td>350</td>\n",
              "      <td>375.0</td>\n",
              "      <td>69</td>\n",
              "      <td>0.98</td>\n",
              "      <td>2008</td>\n",
              "      <td>3</td>\n",
              "      <td>23.724369</td>\n",
              "      <td>NaN</td>\n",
              "    </tr>\n",
              "    <tr>\n",
              "      <th>12497</th>\n",
              "      <td>MIZORAM</td>\n",
              "      <td>AIZAWL</td>\n",
              "      <td>4.0</td>\n",
              "      <td>296</td>\n",
              "      <td>317.0</td>\n",
              "      <td>52</td>\n",
              "      <td>0.74</td>\n",
              "      <td>2008</td>\n",
              "      <td>1</td>\n",
              "      <td>23.724369</td>\n",
              "      <td>NaN</td>\n",
              "    </tr>\n",
              "    <tr>\n",
              "      <th>12498</th>\n",
              "      <td>MIZORAM</td>\n",
              "      <td>AIZAWL</td>\n",
              "      <td>4.0</td>\n",
              "      <td>321</td>\n",
              "      <td>344.0</td>\n",
              "      <td>51</td>\n",
              "      <td>0.73</td>\n",
              "      <td>2008</td>\n",
              "      <td>4</td>\n",
              "      <td>23.724369</td>\n",
              "      <td>NaN</td>\n",
              "    </tr>\n",
              "    <tr>\n",
              "      <th>12499</th>\n",
              "      <td>MIZORAM</td>\n",
              "      <td>AIZAWL</td>\n",
              "      <td>4.0</td>\n",
              "      <td>410</td>\n",
              "      <td>434.0</td>\n",
              "      <td>67</td>\n",
              "      <td>0.94</td>\n",
              "      <td>2009</td>\n",
              "      <td>2</td>\n",
              "      <td>23.724369</td>\n",
              "      <td>NaN</td>\n",
              "    </tr>\n",
              "    <tr>\n",
              "      <th>12500</th>\n",
              "      <td>MIZORAM</td>\n",
              "      <td>AIZAWL</td>\n",
              "      <td>4.0</td>\n",
              "      <td>341</td>\n",
              "      <td>361.0</td>\n",
              "      <td>65</td>\n",
              "      <td>0.92</td>\n",
              "      <td>2009</td>\n",
              "      <td>1</td>\n",
              "      <td>23.724369</td>\n",
              "      <td>NaN</td>\n",
              "    </tr>\n",
              "    <tr>\n",
              "      <th>12501</th>\n",
              "      <td>MIZORAM</td>\n",
              "      <td>AIZAWL</td>\n",
              "      <td>4.0</td>\n",
              "      <td>339</td>\n",
              "      <td>358.0</td>\n",
              "      <td>55</td>\n",
              "      <td>0.78</td>\n",
              "      <td>2009</td>\n",
              "      <td>3</td>\n",
              "      <td>23.724369</td>\n",
              "      <td>NaN</td>\n",
              "    </tr>\n",
              "    <tr>\n",
              "      <th>12502</th>\n",
              "      <td>MIZORAM</td>\n",
              "      <td>AIZAWL</td>\n",
              "      <td>4.0</td>\n",
              "      <td>328</td>\n",
              "      <td>347.0</td>\n",
              "      <td>49</td>\n",
              "      <td>0.69</td>\n",
              "      <td>2009</td>\n",
              "      <td>4</td>\n",
              "      <td>23.724369</td>\n",
              "      <td>NaN</td>\n",
              "    </tr>\n",
              "    <tr>\n",
              "      <th>12503</th>\n",
              "      <td>MIZORAM</td>\n",
              "      <td>AIZAWL</td>\n",
              "      <td>4.0</td>\n",
              "      <td>289</td>\n",
              "      <td>305.0</td>\n",
              "      <td>58</td>\n",
              "      <td>38</td>\n",
              "      <td>2010</td>\n",
              "      <td>4</td>\n",
              "      <td>23.724369</td>\n",
              "      <td>NaN</td>\n",
              "    </tr>\n",
              "    <tr>\n",
              "      <th>12504</th>\n",
              "      <td>MIZORAM</td>\n",
              "      <td>AIZAWL</td>\n",
              "      <td>4.0</td>\n",
              "      <td>371</td>\n",
              "      <td>392.0</td>\n",
              "      <td>71</td>\n",
              "      <td>1</td>\n",
              "      <td>2010</td>\n",
              "      <td>1</td>\n",
              "      <td>23.724369</td>\n",
              "      <td>NaN</td>\n",
              "    </tr>\n",
              "    <tr>\n",
              "      <th>12505</th>\n",
              "      <td>MIZORAM</td>\n",
              "      <td>AIZAWL</td>\n",
              "      <td>4.0</td>\n",
              "      <td>347</td>\n",
              "      <td>367.0</td>\n",
              "      <td>46</td>\n",
              "      <td>0.65</td>\n",
              "      <td>2010</td>\n",
              "      <td>2</td>\n",
              "      <td>23.724369</td>\n",
              "      <td>NaN</td>\n",
              "    </tr>\n",
              "    <tr>\n",
              "      <th>12506</th>\n",
              "      <td>MIZORAM</td>\n",
              "      <td>AIZAWL</td>\n",
              "      <td>4.0</td>\n",
              "      <td>349</td>\n",
              "      <td>369.0</td>\n",
              "      <td>40</td>\n",
              "      <td>0.56</td>\n",
              "      <td>2010</td>\n",
              "      <td>3</td>\n",
              "      <td>23.724369</td>\n",
              "      <td>NaN</td>\n",
              "    </tr>\n",
              "  </tbody>\n",
              "</table>\n",
              "</div>"
            ],
            "text/plain": [
              "         State District  Pop.Covered  Totalcasestreated  \\\n",
              "12488  MIZORAM   AIZAWL          4.0                236   \n",
              "12489  MIZORAM   AIZAWL          4.0                214   \n",
              "12490  MIZORAM   AIZAWL          4.0                258   \n",
              "12491  MIZORAM   AIZAWL          4.0                309   \n",
              "12492  MIZORAM   AIZAWL          4.0                269   \n",
              "12493  MIZORAM   AIZAWL          4.0                297   \n",
              "12494  MIZORAM   AIZAWL          4.0                229   \n",
              "12495  MIZORAM   AIZAWL          4.0                354   \n",
              "12496  MIZORAM   AIZAWL          4.0                350   \n",
              "12497  MIZORAM   AIZAWL          4.0                296   \n",
              "12498  MIZORAM   AIZAWL          4.0                321   \n",
              "12499  MIZORAM   AIZAWL          4.0                410   \n",
              "12500  MIZORAM   AIZAWL          4.0                341   \n",
              "12501  MIZORAM   AIZAWL          4.0                339   \n",
              "12502  MIZORAM   AIZAWL          4.0                328   \n",
              "12503  MIZORAM   AIZAWL          4.0                289   \n",
              "12504  MIZORAM   AIZAWL          4.0                371   \n",
              "12505  MIZORAM   AIZAWL          4.0                347   \n",
              "12506  MIZORAM   AIZAWL          4.0                349   \n",
              "\n",
              "       detectionrate\\nAnnualized\\nTotal  treated\\nNewS+ve\\ncases  \\\n",
              "12488                             259.0                       58   \n",
              "12489                             235.0                       53   \n",
              "12490                             283.0                       51   \n",
              "12491                             335.0                       69   \n",
              "12492                             291.0                       58   \n",
              "12493                             322.0                       58   \n",
              "12494                             248.0                       48   \n",
              "12495                             379.0                       71   \n",
              "12496                             375.0                       69   \n",
              "12497                             317.0                       52   \n",
              "12498                             344.0                       51   \n",
              "12499                             434.0                       67   \n",
              "12500                             361.0                       65   \n",
              "12501                             358.0                       55   \n",
              "12502                             347.0                       49   \n",
              "12503                             305.0                       58   \n",
              "12504                             392.0                       71   \n",
              "12505                             367.0                       46   \n",
              "12506                             369.0                       40   \n",
              "\n",
              "      detectionrate\\nAnnualized\\nsmear+ve  quarterno.  year   Latitude  \\\n",
              "12488                                0.85        2006     4  23.724369   \n",
              "12489                                0.78        2006     1  23.724369   \n",
              "12490                                0.75        2006     2  23.724369   \n",
              "12491                                   1        2007     2  23.724369   \n",
              "12492                                0.84        2007     3  23.724369   \n",
              "12493                                0.84        2007     4  23.724369   \n",
              "12494                                0.69        2007     1  23.724369   \n",
              "12495                                1.01        2008     2  23.724369   \n",
              "12496                                0.98        2008     3  23.724369   \n",
              "12497                                0.74        2008     1  23.724369   \n",
              "12498                                0.73        2008     4  23.724369   \n",
              "12499                                0.94        2009     2  23.724369   \n",
              "12500                                0.92        2009     1  23.724369   \n",
              "12501                                0.78        2009     3  23.724369   \n",
              "12502                                0.69        2009     4  23.724369   \n",
              "12503                                  38        2010     4  23.724369   \n",
              "12504                                   1        2010     1  23.724369   \n",
              "12505                                0.65        2010     2  23.724369   \n",
              "12506                                0.56        2010     3  23.724369   \n",
              "\n",
              "       Longitude  \n",
              "12488        NaN  \n",
              "12489        NaN  \n",
              "12490        NaN  \n",
              "12491        NaN  \n",
              "12492        NaN  \n",
              "12493        NaN  \n",
              "12494        NaN  \n",
              "12495        NaN  \n",
              "12496        NaN  \n",
              "12497        NaN  \n",
              "12498        NaN  \n",
              "12499        NaN  \n",
              "12500        NaN  \n",
              "12501        NaN  \n",
              "12502        NaN  \n",
              "12503        NaN  \n",
              "12504        NaN  \n",
              "12505        NaN  \n",
              "12506        NaN  "
            ]
          },
          "metadata": {
            "tags": []
          },
          "execution_count": 93
        }
      ]
    },
    {
      "cell_type": "code",
      "metadata": {
        "id": "YKIwfRtcggcy",
        "colab_type": "code",
        "colab": {}
      },
      "source": [
        "#filling these values for mizoram aizawl\n",
        "#https://www.mapsofindia.com/lat_long/mizoram/\n",
        "longitude_of_aizawl=float(93)\n",
        "tb_data=tb.copy()\n",
        "tb_data.Longitude.fillna(longitude_of_aizawl,inplace=True,downcast='infer')"
      ],
      "execution_count": 0,
      "outputs": []
    },
    {
      "cell_type": "code",
      "metadata": {
        "id": "x1OWEZ0ao5V1",
        "colab_type": "code",
        "outputId": "117e2a7c-e70d-49aa-d401-a1fd31787197",
        "colab": {
          "base_uri": "https://localhost:8080/",
          "height": 105
        }
      },
      "source": [
        "tb_data.columns=tb_data.columns.str.lower()\n",
        "tb_data.columns=tb_data.columns.str.replace('\\n','')\n",
        "print(tb_data.columns)\n",
        "tb_data.columns=['state', 'district', 'pop.covered', 'totalcasestreated',\n",
        "       'detectionrateannualizedtotal', 'treatednews+vecases',\n",
        "       'detectionrateannualizedsmear+ve', 'year', 'quarter', 'latitude',\n",
        "       'longitude']"
      ],
      "execution_count": 0,
      "outputs": [
        {
          "output_type": "stream",
          "text": [
            "Index(['state', 'district', 'pop.covered', 'totalcasestreated',\n",
            "       'detectionrateannualizedtotal', 'treatednews+vecases',\n",
            "       'detectionrateannualizedsmear+ve', 'quarterno.', 'year', 'latitude',\n",
            "       'longitude'],\n",
            "      dtype='object')\n"
          ],
          "name": "stdout"
        }
      ]
    },
    {
      "cell_type": "code",
      "metadata": {
        "id": "GliEdaiZpGAo",
        "colab_type": "code",
        "outputId": "96fb8c9f-bfe6-431d-9247-06f356833c2c",
        "colab": {
          "base_uri": "https://localhost:8080/",
          "height": 219
        }
      },
      "source": [
        "tb_data.head()"
      ],
      "execution_count": 0,
      "outputs": [
        {
          "output_type": "execute_result",
          "data": {
            "text/html": [
              "<div>\n",
              "<style scoped>\n",
              "    .dataframe tbody tr th:only-of-type {\n",
              "        vertical-align: middle;\n",
              "    }\n",
              "\n",
              "    .dataframe tbody tr th {\n",
              "        vertical-align: top;\n",
              "    }\n",
              "\n",
              "    .dataframe thead th {\n",
              "        text-align: right;\n",
              "    }\n",
              "</style>\n",
              "<table border=\"1\" class=\"dataframe\">\n",
              "  <thead>\n",
              "    <tr style=\"text-align: right;\">\n",
              "      <th></th>\n",
              "      <th>state</th>\n",
              "      <th>district</th>\n",
              "      <th>pop.covered</th>\n",
              "      <th>totalcasestreated</th>\n",
              "      <th>detectionrateannualizedtotal</th>\n",
              "      <th>treatednews+vecases</th>\n",
              "      <th>detectionrateannualizedsmear+ve</th>\n",
              "      <th>year</th>\n",
              "      <th>quarter</th>\n",
              "      <th>latitude</th>\n",
              "      <th>longitude</th>\n",
              "    </tr>\n",
              "  </thead>\n",
              "  <tbody>\n",
              "    <tr>\n",
              "      <th>0</th>\n",
              "      <td>ANDAMANNICOBAR</td>\n",
              "      <td>ANDAMANNICOBAR</td>\n",
              "      <td>4.0</td>\n",
              "      <td>221</td>\n",
              "      <td>224.0</td>\n",
              "      <td>57</td>\n",
              "      <td>0.77</td>\n",
              "      <td>2006</td>\n",
              "      <td>1</td>\n",
              "      <td>12.36718</td>\n",
              "      <td>92.924179</td>\n",
              "    </tr>\n",
              "    <tr>\n",
              "      <th>1</th>\n",
              "      <td>ANDAMANNICOBAR</td>\n",
              "      <td>ANDAMANNICOBARISLANDS</td>\n",
              "      <td>4.0</td>\n",
              "      <td>262</td>\n",
              "      <td>268.0</td>\n",
              "      <td>91</td>\n",
              "      <td>1.24</td>\n",
              "      <td>2005</td>\n",
              "      <td>4</td>\n",
              "      <td>12.36718</td>\n",
              "      <td>92.924179</td>\n",
              "    </tr>\n",
              "    <tr>\n",
              "      <th>2</th>\n",
              "      <td>ANDAMANNICOBAR</td>\n",
              "      <td>ANDAMANNICOBARISLANDS</td>\n",
              "      <td>4.0</td>\n",
              "      <td>252</td>\n",
              "      <td>256.0</td>\n",
              "      <td>82</td>\n",
              "      <td>1.11</td>\n",
              "      <td>2006</td>\n",
              "      <td>4</td>\n",
              "      <td>12.36718</td>\n",
              "      <td>92.924179</td>\n",
              "    </tr>\n",
              "    <tr>\n",
              "      <th>3</th>\n",
              "      <td>ANDAMANNICOBAR</td>\n",
              "      <td>ANDAMANNICOBARISLANDS</td>\n",
              "      <td>4.0</td>\n",
              "      <td>238</td>\n",
              "      <td>242.0</td>\n",
              "      <td>77</td>\n",
              "      <td>1.04</td>\n",
              "      <td>2006</td>\n",
              "      <td>2</td>\n",
              "      <td>12.36718</td>\n",
              "      <td>92.924179</td>\n",
              "    </tr>\n",
              "    <tr>\n",
              "      <th>4</th>\n",
              "      <td>ANDAMANNICOBAR</td>\n",
              "      <td>ANDAMANNICOBARISLANDS</td>\n",
              "      <td>4.0</td>\n",
              "      <td>209</td>\n",
              "      <td>212.0</td>\n",
              "      <td>58</td>\n",
              "      <td>0.79</td>\n",
              "      <td>2006</td>\n",
              "      <td>3</td>\n",
              "      <td>12.36718</td>\n",
              "      <td>92.924179</td>\n",
              "    </tr>\n",
              "  </tbody>\n",
              "</table>\n",
              "</div>"
            ],
            "text/plain": [
              "            state               district  pop.covered  totalcasestreated  \\\n",
              "0  ANDAMANNICOBAR         ANDAMANNICOBAR          4.0                221   \n",
              "1  ANDAMANNICOBAR  ANDAMANNICOBARISLANDS          4.0                262   \n",
              "2  ANDAMANNICOBAR  ANDAMANNICOBARISLANDS          4.0                252   \n",
              "3  ANDAMANNICOBAR  ANDAMANNICOBARISLANDS          4.0                238   \n",
              "4  ANDAMANNICOBAR  ANDAMANNICOBARISLANDS          4.0                209   \n",
              "\n",
              "   detectionrateannualizedtotal  treatednews+vecases  \\\n",
              "0                         224.0                   57   \n",
              "1                         268.0                   91   \n",
              "2                         256.0                   82   \n",
              "3                         242.0                   77   \n",
              "4                         212.0                   58   \n",
              "\n",
              "  detectionrateannualizedsmear+ve  year  quarter  latitude  longitude  \n",
              "0                            0.77  2006        1  12.36718  92.924179  \n",
              "1                            1.24  2005        4  12.36718  92.924179  \n",
              "2                            1.11  2006        4  12.36718  92.924179  \n",
              "3                            1.04  2006        2  12.36718  92.924179  \n",
              "4                            0.79  2006        3  12.36718  92.924179  "
            ]
          },
          "metadata": {
            "tags": []
          },
          "execution_count": 184
        }
      ]
    },
    {
      "cell_type": "code",
      "metadata": {
        "id": "IunsiebJp5WV",
        "colab_type": "code",
        "colab": {}
      },
      "source": [
        "tb_data['state']=tb_data['state'].str.lower()\n",
        "tb_data['state']=tb_data['state'].str.replace('\\n','')"
      ],
      "execution_count": 0,
      "outputs": []
    },
    {
      "cell_type": "code",
      "metadata": {
        "id": "E08UKdn1qMR5",
        "colab_type": "code",
        "outputId": "680b55b1-ea3f-4d07-b6b4-c552d8bd541a",
        "colab": {
          "base_uri": "https://localhost:8080/",
          "height": 263
        }
      },
      "source": [
        "tb_data['state'].unique()"
      ],
      "execution_count": 0,
      "outputs": [
        {
          "output_type": "execute_result",
          "data": {
            "text/plain": [
              "array(['andamannicobar', 'andhrapradesh', 'anislands', 'arunachalpradesh',\n",
              "       'assam', 'assamassam', 'bihar', 'biharbihar', 'chandigarh',\n",
              "       'chhatisgarh', 'chhattisgarh', 'dadarnagarhaveli', 'damandiu',\n",
              "       'delhi', 'delhidelhi', 'dnhaveli', 'dnhaveli?', 'goa', 'gujarat',\n",
              "       'gujaratgujarat', 'haryana', 'haryanaharyana', 'himachalpradesh',\n",
              "       'jammukashmir', 'jharkhand', 'karnataka', 'karnatakakarnataka',\n",
              "       'kerala', 'lakshadweep', 'madhyapradesh',\n",
              "       'madhyapradeshmadhyapradesh', 'maharashtra',\n",
              "       'maharashtramaharashtra', 'manipur', 'meghalaya', 'mizoram',\n",
              "       'nagaland', 'orissa', 'pondicherry', 'puducherry', 'punjab',\n",
              "       'punjabpunjab', 'rajasthan', 'rajasthanrajasthan', 'sikkim',\n",
              "       'tamilnadu', 'tripura', 'uttarakhand', 'uttaranchal',\n",
              "       'uttarpradesh', 'uttarpradeshuttarpradesh', 'westbengal',\n",
              "       'westbengalwestbengal'], dtype=object)"
            ]
          },
          "metadata": {
            "tags": []
          },
          "execution_count": 186
        }
      ]
    },
    {
      "cell_type": "code",
      "metadata": {
        "id": "NuSRHC4qqeUp",
        "colab_type": "code",
        "colab": {}
      },
      "source": [
        "tb_data['state']=tb_data['state'].str.replace('assamassam','assam')\n",
        "tb_data['state']=tb_data['state'].str.replace('anislands','andamannicobar')\n",
        "tb_data['state']=tb_data['state'].str.replace('biharbihar','bihar')\n",
        "tb_data['state']=tb_data['state'].str.replace('chhatisgarh','chhattisgarh')\n",
        "tb_data['state']=tb_data['state'].str.replace('dadarnagarhaveli','dadraandnagarhaveli')\n",
        "tb_data['state']=tb_data['state'].str.replace('delhidelhi','delhi')\n",
        "tb_data['state']=tb_data['state'].str.replace('dnhaveli','dadraandnagarhaveli')\n",
        "tb_data['state']=tb_data['state'].str.replace('dnhaveli ?','Dadra and Nagar Haveli')\n",
        "tb_data['state']=tb_data['state'].str.replace('gujaratgujarat','gujarat')\n",
        "tb_data['state']=tb_data['state'].str.replace('haryanaharyana','haryana')\n",
        "tb_data['state']=tb_data['state'].str.replace('karnatakakarnataka','karnataka')\n",
        "tb_data['state']=tb_data['state'].str.replace('madhyapradeshmadhyapradesh','madhyapradesh')\n",
        "tb_data['state']=tb_data['state'].str.replace('maharashtramaharashtra','maharashtra')\n",
        "tb_data['state']=tb_data['state'].str.replace('pondicherry','puducherry')\n",
        "tb_data['state']=tb_data['state'].str.replace('punjabpunjab','punjab')\n",
        "tb_data['state']=tb_data['state'].str.replace('rajasthanrajasthan','rajasthan')\n",
        "tb_data['state']=tb_data['state'].str.replace('uttarpradeshuttarpradesh','uttarpradesh')\n",
        "tb_data['state']=tb_data['state'].str.replace('westbengalwestbengal','westbengal')\n",
        "tb_data['state']=tb_data['state'].str.replace('uttarakhand','uttaranchal')"
      ],
      "execution_count": 0,
      "outputs": []
    },
    {
      "cell_type": "code",
      "metadata": {
        "id": "yufL3LUXt0YE",
        "colab_type": "code",
        "outputId": "18c825e9-b796-402b-9df0-f17d6f2f3a9d",
        "colab": {
          "base_uri": "https://localhost:8080/",
          "height": 175
        }
      },
      "source": [
        "tb_data['state'].unique()"
      ],
      "execution_count": 0,
      "outputs": [
        {
          "output_type": "execute_result",
          "data": {
            "text/plain": [
              "array(['andamannicobar', 'andhrapradesh', 'arunachalpradesh', 'assam',\n",
              "       'bihar', 'chandigarh', 'chhattisgarh', 'dadraandnagarhaveli',\n",
              "       'damandiu', 'delhi', 'dadraandnagarhaveli?', 'goa', 'gujarat',\n",
              "       'haryana', 'himachalpradesh', 'jammukashmir', 'jharkhand',\n",
              "       'karnataka', 'kerala', 'lakshadweep', 'madhyapradesh',\n",
              "       'maharashtra', 'manipur', 'meghalaya', 'mizoram', 'nagaland',\n",
              "       'orissa', 'puducherry', 'punjab', 'rajasthan', 'sikkim',\n",
              "       'tamilnadu', 'tripura', 'uttaranchal', 'uttarpradesh',\n",
              "       'westbengal'], dtype=object)"
            ]
          },
          "metadata": {
            "tags": []
          },
          "execution_count": 188
        }
      ]
    },
    {
      "cell_type": "code",
      "metadata": {
        "id": "fCtk8p_nu4Er",
        "colab_type": "code",
        "colab": {}
      },
      "source": [
        "tb_data['state']=tb_data['state'].str.replace('?','')"
      ],
      "execution_count": 0,
      "outputs": []
    },
    {
      "cell_type": "code",
      "metadata": {
        "id": "c-WkNPbcwikU",
        "colab_type": "code",
        "outputId": "efb9660a-cb72-490d-eaae-3bce7a649e65",
        "colab": {
          "base_uri": "https://localhost:8080/",
          "height": 157
        }
      },
      "source": [
        "tb_data.state.unique()"
      ],
      "execution_count": 0,
      "outputs": [
        {
          "output_type": "execute_result",
          "data": {
            "text/plain": [
              "array(['andamannicobar', 'andhrapradesh', 'arunachalpradesh', 'assam',\n",
              "       'bihar', 'chandigarh', 'chhattisgarh', 'dadraandnagarhaveli',\n",
              "       'damandiu', 'delhi', 'goa', 'gujarat', 'haryana',\n",
              "       'himachalpradesh', 'jammukashmir', 'jharkhand', 'karnataka',\n",
              "       'kerala', 'lakshadweep', 'madhyapradesh', 'maharashtra', 'manipur',\n",
              "       'meghalaya', 'mizoram', 'nagaland', 'orissa', 'puducherry',\n",
              "       'punjab', 'rajasthan', 'sikkim', 'tamilnadu', 'tripura',\n",
              "       'uttaranchal', 'uttarpradesh', 'westbengal'], dtype=object)"
            ]
          },
          "metadata": {
            "tags": []
          },
          "execution_count": 192
        }
      ]
    },
    {
      "cell_type": "code",
      "metadata": {
        "id": "3SdXbTDwvtbi",
        "colab_type": "code",
        "outputId": "dc6dcc24-0e1a-451a-b7d0-99834e7a32ad",
        "colab": {
          "base_uri": "https://localhost:8080/",
          "height": 175
        }
      },
      "source": [
        "state_mapping_with_coords.state.unique()"
      ],
      "execution_count": 0,
      "outputs": [
        {
          "output_type": "execute_result",
          "data": {
            "text/plain": [
              "array(['Andaman and Nicobar', 'Andhra Pradesh', 'Arunachal Pradesh',\n",
              "       'Assam', 'Bihar', 'Chandigarh', 'Chhattisgarh',\n",
              "       'Dadra and Nagar Haveli', 'Daman and Diu', 'Delhi', 'Goa',\n",
              "       'Gujarat', 'Haryana', 'Himachal Pradesh', 'Jammu and Kashmir',\n",
              "       'Jharkhand', 'Karnataka', 'Kerala', 'Lakshadweep',\n",
              "       'Madhya Pradesh', 'Maharashtra', 'Manipur', 'Meghalaya', 'Mizoram',\n",
              "       'Nagaland', 'Orissa', 'Puducherry', 'Punjab', 'Rajasthan',\n",
              "       'Sikkim', 'Tamil Nadu', 'Tripura', 'Uttar Pradesh', 'Uttaranchal',\n",
              "       'West Bengal'], dtype=object)"
            ]
          },
          "metadata": {
            "tags": []
          },
          "execution_count": 190
        }
      ]
    },
    {
      "cell_type": "code",
      "metadata": {
        "id": "QBMoGELLwlL4",
        "colab_type": "code",
        "colab": {}
      },
      "source": [
        "tb_data['state']=tb_data['state'].str.capitalize()"
      ],
      "execution_count": 0,
      "outputs": []
    },
    {
      "cell_type": "code",
      "metadata": {
        "id": "fOqh_P3KwrO3",
        "colab_type": "code",
        "outputId": "d4c52344-41b6-4e5f-e6db-0c8ddbd66655",
        "colab": {
          "base_uri": "https://localhost:8080/",
          "height": 157
        }
      },
      "source": [
        "tb_data['state'].unique()"
      ],
      "execution_count": 0,
      "outputs": [
        {
          "output_type": "execute_result",
          "data": {
            "text/plain": [
              "array(['Andamannicobar', 'Andhrapradesh', 'Arunachalpradesh', 'Assam',\n",
              "       'Bihar', 'Chandigarh', 'Chhattisgarh', 'Dadraandnagarhaveli',\n",
              "       'Damandiu', 'Delhi', 'Goa', 'Gujarat', 'Haryana',\n",
              "       'Himachalpradesh', 'Jammukashmir', 'Jharkhand', 'Karnataka',\n",
              "       'Kerala', 'Lakshadweep', 'Madhyapradesh', 'Maharashtra', 'Manipur',\n",
              "       'Meghalaya', 'Mizoram', 'Nagaland', 'Orissa', 'Puducherry',\n",
              "       'Punjab', 'Rajasthan', 'Sikkim', 'Tamilnadu', 'Tripura',\n",
              "       'Uttaranchal', 'Uttarpradesh', 'Westbengal'], dtype=object)"
            ]
          },
          "metadata": {
            "tags": []
          },
          "execution_count": 196
        }
      ]
    },
    {
      "cell_type": "code",
      "metadata": {
        "id": "-_HgNSttw3Qn",
        "colab_type": "code",
        "colab": {}
      },
      "source": [
        "tb_data['state']=tb_data['state'].str.replace('Andamannicobar','Andaman and Nicobar')\n",
        "tb_data['state']=tb_data['state'].str.replace('Dadraandnagarhaveli','Dadra and Nagar Haveli')\n",
        "tb_data['state']=tb_data['state'].str.replace('pradesh',' Pradesh')\n",
        "tb_data['state']=tb_data['state'].str.replace('bengal',' Bengal')\n",
        "tb_data['state']=tb_data['state'].str.replace('nadu',' Nadu')\n",
        "tb_data['state']=tb_data['state'].str.replace('kashmir',' and Kashmir')\n",
        "tb_data['state']=tb_data['state'].str.replace('diu',' and Diu')"
      ],
      "execution_count": 0,
      "outputs": []
    },
    {
      "cell_type": "code",
      "metadata": {
        "id": "vUi9Qy7qxVut",
        "colab_type": "code",
        "outputId": "4f343d3c-5010-4d4f-c301-57bc81b45b73",
        "colab": {
          "base_uri": "https://localhost:8080/",
          "height": 175
        }
      },
      "source": [
        "tb_data['state'].unique()"
      ],
      "execution_count": 0,
      "outputs": [
        {
          "output_type": "execute_result",
          "data": {
            "text/plain": [
              "array(['Andaman and Nicobar', 'Andhra Pradesh', 'Arunachal Pradesh',\n",
              "       'Assam', 'Bihar', 'Chandigarh', 'Chhattisgarh',\n",
              "       'Dadra and Nagar Haveli', 'Daman and Diu', 'Delhi', 'Goa',\n",
              "       'Gujarat', 'Haryana', 'Himachal Pradesh', 'Jammu and Kashmir',\n",
              "       'Jharkhand', 'Karnataka', 'Kerala', 'Lakshadweep',\n",
              "       'Madhya Pradesh', 'Maharashtra', 'Manipur', 'Meghalaya', 'Mizoram',\n",
              "       'Nagaland', 'Orissa', 'Puducherry', 'Punjab', 'Rajasthan',\n",
              "       'Sikkim', 'Tamil Nadu', 'Tripura', 'Uttaranchal', 'Uttar Pradesh',\n",
              "       'West Bengal'], dtype=object)"
            ]
          },
          "metadata": {
            "tags": []
          },
          "execution_count": 208
        }
      ]
    },
    {
      "cell_type": "code",
      "metadata": {
        "id": "-_7FuZfwu-jb",
        "colab_type": "code",
        "outputId": "bf654d9c-ed68-4c43-c133-62da1788dfd8",
        "colab": {
          "base_uri": "https://localhost:8080/",
          "height": 34
        }
      },
      "source": [
        "tb_data['state'].nunique()"
      ],
      "execution_count": 0,
      "outputs": [
        {
          "output_type": "execute_result",
          "data": {
            "text/plain": [
              "35"
            ]
          },
          "metadata": {
            "tags": []
          },
          "execution_count": 209
        }
      ]
    },
    {
      "cell_type": "code",
      "metadata": {
        "id": "plWENQRpyJPF",
        "colab_type": "code",
        "outputId": "22adb9e4-5a20-4560-da73-a1562843f7dc",
        "colab": {
          "base_uri": "https://localhost:8080/",
          "height": 3163
        }
      },
      "source": [
        "tb_data['district'].unique()"
      ],
      "execution_count": 0,
      "outputs": [
        {
          "output_type": "execute_result",
          "data": {
            "text/plain": [
              "array(['ANDAMANNICOBAR', 'ANDAMANNICOBARISLANDS', 'ADILABAD', 'ANANTAPUR',\n",
              "       'BHADRACHALAM', 'CHITTOOR', 'CHITTOR', 'CUDDAPAH', 'EASTGODAVARI',\n",
              "       'GUNTUR', 'HYDERABAD', 'KARIMNAGAR', 'KHAMMAM', 'KRISHNA',\n",
              "       'KURNOOL', 'MAHABOOBNAGAR', 'MAHBUBNAGAR', 'MEDAK', 'NALGONDA',\n",
              "       'NELLORE', 'NIZAMABAD', 'PRAKASAM', 'RANGAREDDI', 'RANGAREDDY',\n",
              "       'SRIKAKULAM', 'VISAKHAPATNAM', 'VIZIANAGARAM', 'WARANGAL',\n",
              "       'WARRANGAL', 'WESTGODAVARI', 'ANDAMANS', 'NICOBARS', 'ALONG',\n",
              "       'ALONGDTC', 'BOMDILA', 'BOMDILADTC', 'CHANGLANG', 'DEOMALI',\n",
              "       'DEOMALIDTC', 'DIBANGVALLEY', 'EASTKAMENG', 'EASTSIANG', 'LOHIT',\n",
              "       'LOWERSUBANSIRI', 'PAPUMPARE', 'PASHIGHAT', 'PASIGHATDTC',\n",
              "       'TAWANG', 'TEZU', 'TEZUDTC', 'TIRAP?', 'TIRAP†', 'UPPERSIANG',\n",
              "       'UPPERSUBANSIRI', 'WESTKAMENG', 'WESTSIANG', 'ZERO', 'ZIRODTC',\n",
              "       'BARPETA', 'BONGAIGAON', 'CACHAR', 'DARRANG', 'DHEMAJI', 'DHUBRI',\n",
              "       'DHURBI', 'DIBRUGARH', 'GOALPARA', 'GOLAGHAT', 'HAILAKANDI',\n",
              "       'JORHAT', 'KAMRUP', 'KARBIANGLONG', 'KARIMGANJ', 'KOKRAJHAR',\n",
              "       'LAKHIMPUR', 'MARIGAON', 'NAGAON', 'NALBARI', 'NORTHCACHARHILLS',\n",
              "       'SIBSAGAR', 'SONITPUR', 'TINSUKIA', 'ARARIA', 'ARWAL',\n",
              "       'AURANGABAD-BI', 'BANKA', 'BEGUSARAI', 'BHAGALPUR', 'BHOJPUR',\n",
              "       'BUXAR', 'DARBHANGA', 'GAYA', 'GOPALGANJ', 'JAMUI', 'JEHANABAD',\n",
              "       'KAIMUR', 'KATIHAR', 'KHAGARIA', 'KISHANGANJ', 'LAKHISARAI',\n",
              "       'MADHEPURA', 'MADHUBANI', 'MAZAFFARPURN', 'MUNGER', 'MUZAFFARPUR',\n",
              "       'NALANDA', 'NAWADA', 'PASHCHIMCHAMPARAN', 'PATNA',\n",
              "       'PURBACHAMPARAN', 'PURBICHAMPARAN', 'PURNEA', 'PURNIA', 'ROHTAS',\n",
              "       'SAHARSA', 'SAMASTIPUR', 'SARAN', 'SHEIKHPURA', 'SHEIKPURA',\n",
              "       'SHEOHAR', 'SITAMARHI', 'SIWAN', 'SUPAUL', 'VAISHALI',\n",
              "       'CHANDIGARH', 'BASTAR', 'BILASPUR-CG', 'DANTEWADA', 'DHAMTARI',\n",
              "       'DURG', 'JANJGIR', 'JASHPUR', 'KANKER', 'KAWARDHA', 'KORBA',\n",
              "       'KORIYA', 'MAHASAMUND', 'RAIGARHCG', 'RAIGARH-CG', 'RAIPUR',\n",
              "       'RAJNANDGAON', 'SURGUJA', 'SURGUJA?', 'SURGUJA†',\n",
              "       'DADRANAGARHAVELI†', 'DAMAN', 'DIU', 'BJRMCHESTCLINIC',\n",
              "       'BSACHESTCLINIC', 'CDCHESTCLINIC', 'DDUCHESTCLINIC',\n",
              "       'GTBCHESTCLINIC', 'GULABIBAGH', 'HEDGEWARCCLINIC',\n",
              "       'HEDGEWARCHESTCLINIC', 'JHANDEWALAN', 'KARAWALNAGAR', 'KINGSWAY',\n",
              "       'KINGSWAYCAMP', 'LNCHESTCLINIC', 'LRS', 'MNCHCHESTCLINIC',\n",
              "       'MOTINAGAR', 'NARELA', 'NDMC', 'NDTC', 'NEHRUNAGAR', 'PATPARGANJ',\n",
              "       'RKMISSION', 'RTRMCHESTCLINIC', 'SGMCHESTCLINIC', 'SHAHADRA',\n",
              "       'SHAHDRA', 'SPMHCHESTCLINIC', 'SPMMARG', 'DADRANAGARHAVELI',\n",
              "       'DADRANAGARHAVELI?', 'NORTHGOA', 'NOTHGOA', 'SOUTHGOA',\n",
              "       'AHMADABAD', 'AHMEDABAD', 'AMC', 'AMRELI', 'ANAND', 'BANASKANTHA',\n",
              "       'BHARUCH', 'BHAVNAGAR', 'CHHOTAUDEPUR', 'DAHOD', 'DOHAD',\n",
              "       'GANDHINAGAR', 'JAMNAGAR', 'JUNAGADH', 'JUNAGARH', 'KACHCHH',\n",
              "       'KHEDA', 'MAHESANA', 'MANSA', 'MANSA-GJ', 'MEHSANA', 'NADIAD',\n",
              "       'NARMADA', 'NAVSARI', 'PANCHMAHAL', 'PANCHMAHALS', 'PATAN',\n",
              "       'PATAN/MANSA', 'POBANDAR', 'PORBANDAR', 'RAJKOT', 'SABARKANTH',\n",
              "       'SABARKANTHA', 'SURAT', 'SURATMC', 'SURATMUNCORP',\n",
              "       'SURATMUNICIPALCORP', 'SURATMUNICIPALCORPORATION', 'SURENDRANAGAR',\n",
              "       'THEDANGS', 'VADODARA', 'VADODARACORP', 'VADODARACORPN',\n",
              "       'VADODARACORPORATION', 'VALSAD', 'VYARA', 'AMBALA', 'BHIWANI',\n",
              "       'FARIDABAD', 'FATEHABAD', 'GURGAON', 'HISAR', 'JHAJJAR', 'JIND',\n",
              "       'KAITHAL', 'KARNAL', 'KURUKSHETRA', 'MAHENDRAGARH', 'MEWAT',\n",
              "       'PALWAL', 'PANCHKULA', 'PANIPAT', 'REWARI', 'ROHTAK', 'SIRSA',\n",
              "       'SONIPAT', 'YAMUNANAGAR', 'BILASPUR-HP', 'CHAMBA', 'HAMIRPUR',\n",
              "       'HAMIRPUR-HP', 'KANGRA', 'KINNAUR', 'KULLU', 'LAHULSPITI',\n",
              "       'LAHULSPITTI', 'MANDI', 'SHIMLA', 'SIRMAUR', 'SIRMOUR', 'SOLAN',\n",
              "       'UNA', 'ANANTANAG', 'ANANTNAG', 'BADGAM', 'BARAMULA', 'DODA',\n",
              "       'JAMMU', 'KARGIL', 'KATHUA', 'KUPWARA', 'LEH', 'POONCH', 'PULWAMA',\n",
              "       'RAJOURI', 'SRINAGAR', 'UDHAMPUR', 'BOKARO', 'CHATRA', 'DEOGHAR',\n",
              "       'DHANBAD', 'DUMKA', 'GARHWA', 'GIRIDIH', 'GODDA', 'GUMLA',\n",
              "       'GUMLA?', 'GUMLA†', 'HAZARIBAGH', 'JAMTARA', 'KHUNTI?', 'KHUNTI†',\n",
              "       'KODARMA', 'LATHEHAR', 'LOHARDAGA', 'PAKAUR', 'PALAMAU', 'PALAMU',\n",
              "       'PASHCHIMISINGHBHUM', 'PURBISINGHBHUM', 'PURBISINGHBHUM?',\n",
              "       'PURBISINGHBHUM†', 'RAMGARH', 'RANCHI', 'RANCHI?', 'RANCHI†',\n",
              "       'SAHIBGANJ', 'SARAIKELAKHARSAWAN', 'SARAIKELA-KHARSAWAN',\n",
              "       'SIMDEGA', 'BAGALKOT', 'BANGALOREC', 'BANGALORECITY',\n",
              "       'BANGALOREMC', 'BANGALORERURAL', 'BANGALOREU', 'BANGALOREURBAN',\n",
              "       'BELGAUM', 'BELLARY', 'BIDAR', 'BIJAPUR', 'CHAMARAJANAGAR',\n",
              "       'CHIKAMAGALUR', 'CHIKKABALLAPUR', 'CHIKMAGALUR', 'CHITRADURGA',\n",
              "       'DAKSHINAKANNADA', 'DAKSHINKANNADA', 'DAVANAGERE', 'DHARWAD',\n",
              "       'GADAG', 'GULBARGA', 'HASSAN', 'HAVERI', 'KODAGU', 'KOLAR',\n",
              "       'KOPPAL', 'MANDYA', 'MYSORE', 'RAICHUR', 'RAMANAGARA', 'SHIMOGA',\n",
              "       'TUMKUR', 'UDUPI', 'UTTARAKANNADA', 'UTTARKANNADA', 'YADGIRI',\n",
              "       'ALAPPUZHA', 'ALLAPUZHA', 'ERNAKULAM', 'ERNAKULUM', 'IDUKKI',\n",
              "       'KANNOOR', 'KANNUR', 'KASARAGOD', 'KOLLAM', 'KOTTAYAM',\n",
              "       'KOZHIKODE', 'MALAPPURAM', 'PALAKKAD', 'PATHANAMTHITTA',\n",
              "       'THIRUVANANTHAPURAM', 'THRISSUR', 'WAYANAD', 'LAKSHADWEEP',\n",
              "       'LAKSHDWEEP', 'ALIRAJPUR?', 'ANUPPUR', 'ASHOKNAGAR', 'BALAGHAT',\n",
              "       'BARWANI', 'BARWANI?', 'BARWANI†', 'BETUL', 'BHIND', 'BHOPAL',\n",
              "       'BURHANPUR', 'CHHATARPUR', 'CHHINDWARA', 'DAMOH', 'DATIA', 'DEWAS',\n",
              "       'DHAR', 'DHAR?', 'DHAR†', 'DINDORI', 'DINDORI?', 'DINDORI†',\n",
              "       'GUNA', 'GWALIOR', 'HARDA', 'HOSHANGABAD', 'INDORE', 'JABALPUR',\n",
              "       'JHABUA', 'JHABUA?', 'JHABUA†', 'KATNI', 'KHANDWA', 'KHARGONE',\n",
              "       'MANDLA', 'MANDLA?', 'MANDLA†', 'MANDSAUR', 'MORENA',\n",
              "       'NARSIMHAPUR', 'NARSINGHPUR', 'NEEMUCH', 'PANNA', 'RAISEN',\n",
              "       'RAJGARH', 'RATLAM', 'REWA', 'SAGAR', 'SATNA', 'SEHORE', 'SEONI',\n",
              "       'SHAHDOL', 'SHAJAPUR', 'SHEOPUR', 'SHIVPURI', 'SIDHI', 'SINGRAULI',\n",
              "       'TIKAMGARH', 'UJJAIN', 'UMARIA', 'VIDISHA', 'AHMADNAGAR',\n",
              "       'AHMADNAGARMUNCORP', 'AHMEDNAGAR', 'AHMEDNAGARMC', 'AKOLA',\n",
              "       'AKOLAMC', 'AKOLAMUNCORP', 'AMRAVATI', 'AURANGABAD',\n",
              "       'AURANGABADMC', 'AURANGABAD-MH', 'AURANGABADMUNCORP',\n",
              "       'AURANGABADMUNICIPALCORPORATION', 'AURANGABADMUNICORP', 'BHANDARA',\n",
              "       'BHIWANDINIZAMPUR', 'BHIWANDI-NIZAMPUR', 'BID', 'BULDANA',\n",
              "       'CHANDRAPUR', 'DHULE', 'DHULEMC', 'DHULEMUNCORP', 'GADCHIROLI',\n",
              "       'GONDIYA', 'HINGOLI', 'JALGAON', 'JALGAONMC', 'JALGAONMUNCORP',\n",
              "       'JALNA', 'KALYANDOMBIVLIMC', 'KOLHAPUR', 'KOLHAPURMC',\n",
              "       'KOLHAPURMUNCORP', 'KOLHAPURMUNICIPALCORPORATION', 'LATUR',\n",
              "       'MALEGAON', 'MALEGOANCORPORATION', 'MEERABHAYANDER',\n",
              "       'MIRABHAYANDER', 'MUMBAI', 'NAGPURMC', 'NAGPURMUNCORP',\n",
              "       'NAGPURMUNICORP', 'NAGPURRURAL', 'NANDED', 'NANDEDMUNCORP',\n",
              "       'NANDEDWAGHELAMC', 'NANDURBAR', 'NASHIK', 'NASHIKCORP',\n",
              "       'NASHIKCORPN', 'NASHIKMUNCORP', 'NASIK', 'NASIKCORP', 'NAVIMUMBAI',\n",
              "       'OSMANABAD', 'PARBHANI', 'PIMPRICHINCHWAD', 'PUNE', 'PUNERURAL',\n",
              "       'RAIGAD', 'RAIGARH-MH', 'RATNAGIRI', 'SANGLI', 'SANGLIMC',\n",
              "       'SANGLIMUNICIPALCORPORATION', 'SANGLIMUNICORP', 'SATARA',\n",
              "       'SINDHUDURG', 'SOLAPUR', 'SOLAPURMC', 'SOLAPURMUNCORP',\n",
              "       'SOLAPURMUNICIPALCORPORATION', 'SOLAPURMUNICORP', 'THANE',\n",
              "       'THANEMC', 'THANEMUNCORP', 'THANEMUNICIPALCORPORATION',\n",
              "       'THANEMUNICORP', 'ULHASNAGARMC', 'ULHASNAGARMUNCORP',\n",
              "       'ULHASNAGARMUNI', 'ULHASNAGARMUNICIPALCORPORATION',\n",
              "       'ULHASNAGARMUNICORP', 'WARDHA', 'WASHIM', 'YAVATMAL', 'BISHNUPUR',\n",
              "       'CHANDEL', 'CHURACHANDPUR', 'IMPHAL', 'IMPHALEAST', 'IMPHALWEST',\n",
              "       'SENAPATI', 'TAMENGLONG', 'THOUBAL', 'UKHRUL', 'EASTGAROHILLS',\n",
              "       'EASTKHASIHILLS', 'EASTKHASIHILLSRI', 'EASTKHASIHILLSRIBHOI',\n",
              "       'EKHASIHILLS', 'EKHASIHILLSRIB', 'EKHASIHILLSRIBHOI',\n",
              "       'JAINTIAHILLS', 'RIBHOI', 'SOUTHGAROHILLS', 'WESTGAROHILLS',\n",
              "       'WESTKHASIHILLS', 'WESTSOUTHGAROHILLS', 'WSGAROHILLS', 'AIZAWL',\n",
              "       'CHAMPHAI', 'KOLASIB', 'LAWNGTLAI', 'LUNGLEI', 'MAMIT', 'SAIHA',\n",
              "       'SERCHHIP', 'DIMAPUR', 'KIPHIRE', 'KOHIMA', 'LONGLENG',\n",
              "       'MOKOKCHUNG', 'MON', 'PEREN', 'PHEK', 'TUENSANG', 'WOKHA',\n",
              "       'ZUNHEBOTO', nan, 'ANGUL', 'ANUGUL', 'BALANGIR', 'BALESHWAR',\n",
              "       'BARGARH', 'BAUDH', 'BHADRAK', 'BHUBANESHWARCORP',\n",
              "       'BHUBANESHWARCORPORATION', 'BHUBANESHWARMC', 'BHUBANESHWARMUNCORP',\n",
              "       'BHUBANESHWARMUNICORP', 'BOUDH', 'CUTTACK', 'DEBAGARH', 'DEOGARH',\n",
              "       'DHENKANAL', 'GAJAPATI', 'GAJAPATI?', 'GAJAPATI†', 'GANJAM',\n",
              "       'JAGATSINGHAPUR', 'JAGATSINGHPUR', 'JAJAPUR', 'JHARSUGUDA',\n",
              "       'KALAHANDI', 'KANDHAMAL', 'KANDHAMAL?', 'KANDHAMAL†', 'KENDRAPARA',\n",
              "       'KENDUJHAR', 'KHEONJHAR', 'KHORDHA', 'KORAPUT', 'KORAPUT?',\n",
              "       'KORAPUT†', 'MALKANGIRI', 'MAYURBHANJ', 'MAYURBHANJ?',\n",
              "       'MAYURBHANJ†', 'NABARANGAPUR', 'NABARANGAPUR?', 'NABARANGAPUR†',\n",
              "       'NABARANGPUR', 'NAYAGARH', 'NUAPADA', 'NUAPADA?', 'NUAPADA†',\n",
              "       'PURI', 'RAYAGADA', 'RAYAGADA?', 'RAYAGADA†', 'SAMBALPUR',\n",
              "       'SONAPUR', 'SUNDARGARH', 'SUNDARGARH?', 'SUNDARGARH†',\n",
              "       'PONDICHERRY', 'PUDUCHERRY', 'AMRITSAR', 'BARNALA', 'BATHINDA',\n",
              "       'FARIDKOT', 'FATEHGARHSAHIB', 'FIROZPUR', 'GURDASPUR',\n",
              "       'HOSHIARPUR', 'JALANDHAR', 'KAPURTHALA', 'LUDHIANA', 'MANSA-PN',\n",
              "       'MANSA-PU', 'MOGA', 'MOHALI', 'MUKTSAR', 'NAWANSHAHR', 'PATIALA',\n",
              "       'RUPNAGAR', 'SANGRUR', 'TARNTARAN', 'AJMER', 'ALWAR', 'BANSWARA',\n",
              "       'BANSWARA?', 'BANSWARA†', 'BARAN', 'BARMER', 'BHARATPUR',\n",
              "       'BHILWARA', 'BIKANER', 'BUNDI', 'CHITTAURGARH', 'CHITTORGARH',\n",
              "       'CHURU', 'DAUSA', 'DAUSSA', 'DHAULPUR', 'DUNGARPUR', 'DUNGARPUR?',\n",
              "       'DUNGARPUR†', 'GANGANAGAR', 'HANUMANGARH', 'JAIPUR', 'JAIPURDTCII',\n",
              "       'JAISALMER', 'JALOR', 'JALORE', 'JHALAWAR', 'JHUNJHUNUN',\n",
              "       'JODHPUR', 'KARAULI', 'KOTA', 'NAGAUR', 'PALI', 'RAJSAMAND',\n",
              "       'SAWAIMADHOPUR', 'SIKAR', 'SIROHI', 'TONK', 'UDAIPUR', 'EAST',\n",
              "       'EASTSIKKIM', 'NORTH', 'NORTHSIKKIM', 'SOUTH', 'SOUTHSIKKIM',\n",
              "       'WEST', 'WESTSIKKIM', 'CHENNAI', 'COIMBATORE', 'CUDDALORE',\n",
              "       'DHARAMPURI', 'DHARMAPURI', 'DINDIGUL', 'ERODE', 'KANCHEEPURAM',\n",
              "       'KANCHIPURAM', 'KANNIYAKUMARI', 'KANYAKUMARI', 'KARUR',\n",
              "       'KRISHNAGIRI', 'MADURAI', 'NAGAPATTINAM', 'NAMAKKAL', 'PERAMBALUR',\n",
              "       'PUDUKKOTTAI', 'PUDUKOTTAI', 'RAMANATHAPURAM', 'SALEM',\n",
              "       'SIVAGANGA', 'THANJAVUR', 'THENI', 'THENILGIRIS', 'THIRUVALLUR',\n",
              "       'THIRUVARUR', 'TIRUCHIRAPALLI', 'TIRUCHIRAPPALLI', 'TIRUNELVELI',\n",
              "       'TIRUPPUR', 'TIRUVANAMALAI', 'TIRUVARUR', 'TOOTHUKUDI', 'VELLORE',\n",
              "       'VILLUPURAM', 'VILUPPURAM', 'VIRUDHNAGAR', 'VIRUDHUNAGAR',\n",
              "       'DHALAI', 'NORTHTRIPURA', 'SOUTHTRIPURA', 'WESTTRIPURA', 'ALMORA',\n",
              "       'BAGESHWAR', 'CHAMOLI', 'CHAMPAWAT', 'DEHRADUN', 'GARHWAL',\n",
              "       'HARDWAR', 'NAINITAL', 'PITHORAGARH', 'RUDRAPRAYAG',\n",
              "       'TEHRIGARHWAL', 'UDHAMSINGHNAGAR', 'UTTARKASHI', 'AGRA', 'ALIGARH',\n",
              "       'ALLAHABAD', 'AMBEDKARNAGAR', 'AURAIYA', 'AZAMGARH', 'BAGHPAT',\n",
              "       'BAGPAT', 'BAHRAICH', 'BALLIA', 'BALRAMPUR', 'BANDA', 'BARABANKI',\n",
              "       'BAREILLY', 'BASTI', 'BCMHOSPITAL/SITAPUR', 'BCMHOSPITALSITAPUR',\n",
              "       'BHARAICH', 'BIJNOR', 'BUDAUN', 'BULANDSHAHAR', 'CHANDAULI',\n",
              "       'CHITRAKOOT', 'DEORIA', 'ETAH', 'ETAWAH', 'FAIZABAD',\n",
              "       'FARRUKHABAD', 'FATEHPUR', 'FIROZABAD', 'GAUTAMBUDHNAGAR',\n",
              "       'GHAZIABAD', 'GHAZIPUR', 'GONDA', 'GORAKHPUR', 'HAMIRPUR-UP',\n",
              "       'HARDOI', 'HATHRAS', 'JALAUN', 'JAUNPUR', 'JHANSI',\n",
              "       'JYOTIBAPHULENAGAR', 'KANNAUJ', 'KANPURDEHAT', 'KANPURNAGAR',\n",
              "       'KANSHIRAMNAGAR', 'KAUSHAMBI', 'KHERI', 'KUSHINAGAR', 'LALITPUR',\n",
              "       'LUCKNOW', 'MAHARAJGANJ', 'MAHOBA', 'MAINPURI', 'MATHURA', 'MAU',\n",
              "       'MEERUT', 'MIRZAPUR', 'MORADABAD', 'MUZAFFARNAGAR', 'PILIBHIT',\n",
              "       'PRATAPGARH', 'RAEBARELI', 'RAIBAREILLY', 'RAMPUR', 'SAHARANPUR',\n",
              "       'SANTKABIRNAGAR', 'SANTRAVIDASNAGAR', 'SHAHJAHANPUR', 'SHRAVASTI',\n",
              "       'SIDDHARTHNAGAR', 'SITAPUR', 'SONBHADRA', 'SULTANPUR', 'UNNAO',\n",
              "       'VARANASI', 'BANKURA', 'BARDDHAMAN', 'BARDHAMAN', 'BIRBHUM',\n",
              "       'CALCUTTA', 'DAKSHINDINAJPUR', 'DARJEELING', 'DARJILING', 'HAORA',\n",
              "       'HOOGLY', 'HOWRAH', 'HUGLI', 'JALPAIGURI', 'KOCHBEHAR',\n",
              "       'KOCHBIHAR', 'KOLKATA', 'MALDA', 'MALDAH', 'MEDINIPUREAST',\n",
              "       'MEDINIPURWEST', 'MURSHIDABAD', 'NADIA', 'NORTH24PARGANAS',\n",
              "       'PASCHIMMEDINIPUR', 'PURBAMEDINIPUR', 'PURULIYA',\n",
              "       'SOUTH24PARGANAS', 'UTTARDINAJPUR'], dtype=object)"
            ]
          },
          "metadata": {
            "tags": []
          },
          "execution_count": 210
        }
      ]
    },
    {
      "cell_type": "code",
      "metadata": {
        "id": "5w2ZWNUQwWHH",
        "colab_type": "code",
        "colab": {}
      },
      "source": [
        ""
      ],
      "execution_count": 0,
      "outputs": []
    },
    {
      "cell_type": "code",
      "metadata": {
        "id": "14bdqf6khpQ4",
        "colab_type": "code",
        "outputId": "5426f224-193d-4995-8bb2-c34677db44c6",
        "colab": {
          "base_uri": "https://localhost:8080/",
          "height": 199
        }
      },
      "source": [
        "altitude_latlong.head()"
      ],
      "execution_count": 0,
      "outputs": [
        {
          "output_type": "execute_result",
          "data": {
            "text/html": [
              "<div>\n",
              "<style scoped>\n",
              "    .dataframe tbody tr th:only-of-type {\n",
              "        vertical-align: middle;\n",
              "    }\n",
              "\n",
              "    .dataframe tbody tr th {\n",
              "        vertical-align: top;\n",
              "    }\n",
              "\n",
              "    .dataframe thead th {\n",
              "        text-align: right;\n",
              "    }\n",
              "</style>\n",
              "<table border=\"1\" class=\"dataframe\">\n",
              "  <thead>\n",
              "    <tr style=\"text-align: right;\">\n",
              "      <th></th>\n",
              "      <th>Latitude</th>\n",
              "      <th>Longitude</th>\n",
              "      <th>Altitude(in meters)</th>\n",
              "    </tr>\n",
              "  </thead>\n",
              "  <tbody>\n",
              "    <tr>\n",
              "      <th>0</th>\n",
              "      <td>12.382571</td>\n",
              "      <td>92.822911</td>\n",
              "      <td>42</td>\n",
              "    </tr>\n",
              "    <tr>\n",
              "      <th>1</th>\n",
              "      <td>7.835291</td>\n",
              "      <td>93.511601</td>\n",
              "      <td>0</td>\n",
              "    </tr>\n",
              "    <tr>\n",
              "      <th>2</th>\n",
              "      <td>19.284514</td>\n",
              "      <td>78.813212</td>\n",
              "      <td>372</td>\n",
              "    </tr>\n",
              "    <tr>\n",
              "      <th>3</th>\n",
              "      <td>14.312066</td>\n",
              "      <td>77.460158</td>\n",
              "      <td>538</td>\n",
              "    </tr>\n",
              "    <tr>\n",
              "      <th>4</th>\n",
              "      <td>13.331093</td>\n",
              "      <td>78.927639</td>\n",
              "      <td>429</td>\n",
              "    </tr>\n",
              "  </tbody>\n",
              "</table>\n",
              "</div>"
            ],
            "text/plain": [
              "    Latitude  Longitude  Altitude(in meters)\n",
              "0  12.382571  92.822911                   42\n",
              "1   7.835291  93.511601                    0\n",
              "2  19.284514  78.813212                  372\n",
              "3  14.312066  77.460158                  538\n",
              "4  13.331093  78.927639                  429"
            ]
          },
          "metadata": {
            "tags": []
          },
          "execution_count": 127
        }
      ]
    },
    {
      "cell_type": "code",
      "metadata": {
        "id": "MwGBHvv4i4pn",
        "colab_type": "code",
        "outputId": "0211f276-da2f-46e2-9f49-efb0d6c6868f",
        "colab": {
          "base_uri": "https://localhost:8080/",
          "height": 52
        }
      },
      "source": [
        "print(state_mapping_with_coords.district.nunique())\n",
        "state_mapping_with_coords.columns"
      ],
      "execution_count": 0,
      "outputs": [
        {
          "output_type": "stream",
          "text": [
            "589\n"
          ],
          "name": "stdout"
        },
        {
          "output_type": "execute_result",
          "data": {
            "text/plain": [
              "Index(['state', 'district', 'latitude', 'longitude'], dtype='object')"
            ]
          },
          "metadata": {
            "tags": []
          },
          "execution_count": 233
        }
      ]
    },
    {
      "cell_type": "code",
      "metadata": {
        "id": "oLHY3X386_hU",
        "colab_type": "code",
        "outputId": "b0b07e84-1602-4ffe-cf40-8624c56b5a16",
        "colab": {
          "base_uri": "https://localhost:8080/",
          "height": 2108
        }
      },
      "source": [
        "state_mapping_with_coords.district.unique()"
      ],
      "execution_count": 0,
      "outputs": [
        {
          "output_type": "execute_result",
          "data": {
            "text/plain": [
              "array(['Andaman Islands', 'Nicobar Islands', 'Adilabad', 'Anantapur',\n",
              "       'Chittoor', 'Cuddapah', 'East Godavari', 'Guntur', 'Hyderabad',\n",
              "       'Karimnagar', 'Khammam', 'Krishna', 'Kurnool', 'Mahbubnagar',\n",
              "       'Medak', 'Nalgonda', 'Nellore', 'Nizamabad', 'Prakasam',\n",
              "       'Rangareddi', 'Srikakulam', 'Vishakhapatnam', 'Vizianagaram',\n",
              "       'Warangal', 'West Godavari', 'Changlang', 'East Kameng',\n",
              "       'East Siang', 'Kurung Kumey', 'Lohit', 'Lower Dibang Valley',\n",
              "       'Lower Subansiri', 'Papum Pare', 'Tawang', 'Tirap',\n",
              "       'Upper Dibang Valley', 'Upper Siang', 'Upper Subansiri',\n",
              "       'West Kameng', 'West Siang', 'Barpeta', 'Bongaigaon', 'Cachar',\n",
              "       'Darrang', 'Dhemaji', 'Dhuburi', 'Dibrugarh', 'Goalpara',\n",
              "       'Golaghat', 'Hailakandi', 'Jorhat', 'Kamrup', 'Karbi Anglong',\n",
              "       'Karimganj', 'Kokrajhar', 'Lakhimpur', 'Marigaon', 'Nagaon',\n",
              "       'Nalbari', 'North Cachar Hills', 'Sibsagar', 'Sonitpur',\n",
              "       'Tinsukia', 'Araria', 'Aurangabad', 'Banka', 'Begusarai', 'Bhabua',\n",
              "       'Bhagalpur', 'Bhojpur', 'Buxar', 'Darbhanga', 'Gaya', 'Gopalganj',\n",
              "       'Jamui', 'Jehanabad', 'Katihar', 'Khagaria', 'Kishanganj',\n",
              "       'Lakhisarai', 'Madhepura', 'Madhubani', 'Munger', 'Muzaffarpur',\n",
              "       'Nalanda', 'Nawada', 'Pashchim Champaran', 'Patna',\n",
              "       'Purba Champaran', 'Purnia', 'Rohtas', 'Saharsa', 'Samastipur',\n",
              "       'Saran', 'Sheikhpura', 'Sheohar', 'Sitamarhi', 'Siwan', 'Supaul',\n",
              "       'Vaishali', 'Chandigarh', 'Bastar', 'Bilaspur', 'Dantewada',\n",
              "       'Dhamtari', 'Durg', 'Janjgir-Champa', 'Jashpur', 'Kanker',\n",
              "       'Kawardha', 'Korba', 'Koriya', 'Mahasamund', 'Raigarh', 'Raipur',\n",
              "       'Raj Nandgaon', 'Surguja', 'Dadra and Nagar Haveli', 'Daman',\n",
              "       'Junagadh', 'Delhi', 'North Goa', 'South Goa', 'Ahmadabad',\n",
              "       'Amreli', 'Anand', 'Banas Kantha', 'Bharuch', 'Bhavnagar', 'Dahod',\n",
              "       'Gandhinagar', 'Jamnagar', 'Kachchh', 'Kheda', 'Mahesana',\n",
              "       'Narmada', 'Navsari', 'Panch Mahals', 'Patan', 'Porbandar',\n",
              "       'Rajkot', 'Sabar Kantha', 'Surat', 'Surendranagar', 'The Dangs',\n",
              "       'Vadodara', 'Valsad', 'Ambala', 'Bhiwani', 'Faridabad',\n",
              "       'Fatehabad', 'Gurgaon', 'Hisar', 'Jhajjar', 'Jind', 'Kaithal',\n",
              "       'Karnal', 'Kurukshetra', 'Mahendragarh', 'Panchkula', 'Panipat',\n",
              "       'Rewari', 'Rohtak', 'Sirsa', 'Sonepat', 'Yamuna Nagar', 'Chamba',\n",
              "       'Hamirpur', 'Kangra', 'Kinnaur', 'Kullu', 'Lahul and Spiti',\n",
              "       'Mandi', 'Shimla', 'Sirmaur', 'Solan', 'Una',\n",
              "       'Anantnag (Kashmir South)', 'Bagdam', 'Baramula (Kashmir North)',\n",
              "       'Doda', 'Jammu', 'Kargil', 'Kathua', 'Kupwara (Muzaffarabad)',\n",
              "       'Ladakh (Leh)', 'Pulwama', 'Punch', 'Rajauri', 'Srinagar',\n",
              "       'Udhampur', 'Bokaro', 'Chatra', 'Deoghar', 'Dhanbad', 'Dumka',\n",
              "       'Garhwa', 'Giridih', 'Godda', 'Gumla', 'Hazaribag', 'Jamtara',\n",
              "       'Koderma', 'Latehar', 'Lohardaga', 'Pakur', 'Palamu',\n",
              "       'Pashchim Singhbhum', 'Purba Singhbhum', 'Ranchi', 'Sahibganj',\n",
              "       'Saraikela Kharsawan', 'Simdega', 'Bagalkot', 'Bangalore Rural',\n",
              "       'Bangalore Urban', 'Belgaum', 'Bellary', 'Bidar', 'Bijapur',\n",
              "       'Chamrajnagar', 'Chikmagalur', 'Chitradurga', 'Dakshin Kannad',\n",
              "       'Davanagere', 'Dharwad', 'Gadag', 'Gulbarga', 'Hassan', 'Haveri',\n",
              "       'Kodagu', 'Kolar', 'Koppal', 'Mandya', 'Mysore', 'Raichur',\n",
              "       'Shimoga', 'Tumkur', 'Udupi', 'Uttar Kannand', 'Alappuzha',\n",
              "       'Ernakulam', 'Idukki', 'Kannur', 'Kasaragod', 'Kollam', 'Kottayam',\n",
              "       'Kozhikode', 'Malappuram', 'Palakkad', 'Pattanamtitta',\n",
              "       'Thiruvananthapuram', 'Thrissur', 'Wayanad', 'Kavaratti',\n",
              "       'Anuppur', 'Ashoknagar', 'Balaghat', 'Barwani', 'Betul', 'Bhind',\n",
              "       'Bhopal', 'Burhanpur', 'Chhatarpur', 'Chhindwara', 'Damoh',\n",
              "       'Datia', 'Dewas', 'Dhar', 'Dindori', 'East Nimar', 'Guna',\n",
              "       'Gwalior', 'Harda', 'Hoshangabad', 'Indore', 'Jabalpur', 'Jhabua',\n",
              "       'Katni', 'Mandla', 'Mandsaur', 'Morena', 'Narsinghpur', 'Neemuch',\n",
              "       'Panna', 'Raisen', 'Rajgarh', 'Ratlam', 'Rewa', 'Sagar', 'Satna',\n",
              "       'Sehore', 'Seoni', 'Shahdol', 'Shajapur', 'Sheopur', 'Shivpuri',\n",
              "       'Sidhi', 'Tikamgarh', 'Ujjain', 'Umaria', 'Vidisha', 'West Nimar',\n",
              "       'Ahmednagar', 'Akola', 'Amravati', 'Bhandara', 'Bid', 'Buldana',\n",
              "       'Chandrapur', 'Dhule', 'Garhchiroli', 'Gondiya', 'Greater Bombay',\n",
              "       'Hingoli', 'Jalgaon', 'Jalna', 'Kolhapur', 'Latur', 'Nagpur',\n",
              "       'Nanded', 'Nandurbar', 'Nashik', 'Osmanabad', 'Parbhani', 'Pune',\n",
              "       'Ratnagiri', 'Sangli', 'Satara', 'Sindhudurg', 'Solapur', 'Thane',\n",
              "       'Wardha', 'Washim', 'Yavatmal', 'Bishnupur', 'Chandel',\n",
              "       'Churachandpur', 'East Imphal', 'Senapati', 'Tamenglong',\n",
              "       'Thoubal', 'Ukhrul', 'West Imphal', 'East Garo Hills',\n",
              "       'East Khasi Hills', 'Jaintia Hills', 'Ri-Bhoi', 'South Garo Hills',\n",
              "       'West Garo Hills', 'West Khasi Hills', 'Aizawl', 'Champhai',\n",
              "       'Kolasib', 'Lawngtlai', 'Lunglei', 'Mamit', 'Saiha', 'Serchhip',\n",
              "       'Dimapur', 'Kohima', 'Mokokchung', 'Mon', 'Phek', 'Tuensang',\n",
              "       'Wokha', 'Zunheboto', 'Angul', 'Baleshwar', 'Baragarh', 'Bhadrak',\n",
              "       'Bolangir', 'Boudh', 'Cuttack', 'Deogarh', 'Dhenkanal', 'Gajapati',\n",
              "       'Ganjam', 'Jagatsinghpur', 'Jajpur', 'Jharsuguda', 'Kalahandi',\n",
              "       'Kandhamal', 'Kendrapara', 'Keonjhar', 'Khordha', 'Koraput',\n",
              "       'Malkangiri', 'Mayurbhanj', 'Nabarangpur', 'Nayagarh', 'Nuapada',\n",
              "       'Puri', 'Rayagada', 'Sambalpur', 'Sonepur', 'Sundargarh',\n",
              "       'Karaikal', 'Mahe', 'Puducherry', 'Yanam', 'Amritsar', 'Bathinda',\n",
              "       'Faridkot', 'Fatehgarh Sahib', 'Firozpur', 'Gurdaspur',\n",
              "       'Hoshiarpur', 'Jalandhar', 'Kapurthala', 'Ludhiana', 'Mansa',\n",
              "       'Moga', 'Muktsar', 'Nawan Shehar', 'Patiala', 'Rupnagar',\n",
              "       'Sangrur', 'Ajmer', 'Alwar', 'Banswara', 'Baran', 'Barmer',\n",
              "       'Bharatpur', 'Bhilwara', 'Bikaner', 'Bundi', 'Chittaurgarh',\n",
              "       'Churu', 'Dausa', 'Dhaulpur', 'Dungarpur', 'Ganganagar',\n",
              "       'Hanumangarh', 'Jaipur', 'Jaisalmer', 'Jalor', 'Jhalawar',\n",
              "       'Jhunjhunun', 'Jodhpur', 'Karauli', 'Kota', 'Nagaur', 'Pali',\n",
              "       'Rajsamand', 'Sawai Madhopur', 'Sikar', 'Sirohi', 'Tonk',\n",
              "       'Udaipur', 'East', 'North Sikkim', 'South Sikkim', 'West Sikkim',\n",
              "       'Ariyalur', 'Chennai', 'Coimbatore', 'Cuddalore', 'Dharmapuri',\n",
              "       'Dindigul', 'Erode', 'Kancheepuram', 'Kanniyakumari', 'Karur',\n",
              "       'Madurai', 'Nagapattinam', 'Namakkal', 'Nilgiris', 'Perambalur',\n",
              "       'Pudukkottai', 'Ramanathapuram', 'Salem', 'Sivaganga', 'Thanjavur',\n",
              "       'Theni', 'Thiruvallur', 'Thiruvarur', 'Thoothukudi',\n",
              "       'Tiruchchirappalli', 'Tirunelveli Kattabo', 'Tiruvannamalai',\n",
              "       'Vellore', 'Villupuram', 'Virudhunagar', 'Dhalai', 'North Tripura',\n",
              "       'South Tripura', 'West Tripura', 'Agra', 'Aligarh', 'Allahabad',\n",
              "       'Ambedkar Nagar', 'Auraiya', 'Azamgarh', 'Badaun', 'Baghpat',\n",
              "       'Bahraich', 'Ballia', 'Balrampur', 'Banda', 'Bara Banki',\n",
              "       'Bareilly', 'Basti', 'Bijnor', 'Bulandshahr', 'Chandauli',\n",
              "       'Chitrakoot', 'Deoria', 'Etah', 'Etawah', 'Faizabad',\n",
              "       'Farrukhabad', 'Fatehpur', 'Firozabad', 'Gautam Buddha Nagar',\n",
              "       'Ghaziabad', 'Ghazipur', 'Gonda', 'Gorakhpur', 'Hardoi', 'Hathras',\n",
              "       'Jalaun', 'Jaunpur', 'Jhansi', 'Jyotiba Phule Nagar', 'Kannauj',\n",
              "       'Kanpur Dehat', 'Kanpur', 'Kaushambi', 'Kushinagar',\n",
              "       'Lakhimpur Kheri', 'Lalitpur', 'Lucknow', 'Maharajganj', 'Mahoba',\n",
              "       'Mainpuri', 'Mathura', 'Mau', 'Meerut', 'Mirzapur', 'Moradabad',\n",
              "       'Muzaffarnagar', 'Pilibhit', 'Pratapgarh', 'Rae Bareli', 'Rampur',\n",
              "       'Saharanpur', 'Sant Kabir Nagar', 'Sant Ravi Das Nagar',\n",
              "       'Shahjahanpur', 'Shravasti', 'Siddharth Nagar', 'Sitapur',\n",
              "       'Sonbhadra', 'Sultanpur', 'Unnao', 'Varanasi', 'Almora',\n",
              "       'Bageshwar', 'Chamoli', 'Champawat', 'Dehra Dun', 'Haridwar',\n",
              "       'Naini Tal', 'Pauri Garhwal', 'Pithoragarh', 'Rudra Prayag',\n",
              "       'Tehri Garhwal', 'Udham Singh Nagar', 'Uttarkashi', 'Bankura',\n",
              "       'Barddhaman', 'Birbhum', 'Dakshin Dinajpur', 'Darjiling',\n",
              "       'East Midnapore', 'Haora', 'Hugli', 'Jalpaiguri', 'Kochbihar',\n",
              "       'Kolkata', 'Maldah', 'Murshidabad', 'Nadia', 'North 24 Parganas',\n",
              "       'Puruliya', 'South 24 Parganas', 'Uttar Dinajpur',\n",
              "       'West Midnapore'], dtype=object)"
            ]
          },
          "metadata": {
            "tags": []
          },
          "execution_count": 237
        }
      ]
    },
    {
      "cell_type": "code",
      "metadata": {
        "id": "9-6uoeT67N7r",
        "colab_type": "code",
        "colab": {}
      },
      "source": [
        "correct=[]\n",
        "for x1,y1 in enumerate(state_mapping_with_coords.district.unique()):\n",
        "  for x2,y2 in enumerate(pollution.District.unique()):\n",
        "    if y1==y2:\n",
        "      correct.append((x1,y1,x2))"
      ],
      "execution_count": 0,
      "outputs": []
    },
    {
      "cell_type": "code",
      "metadata": {
        "id": "y5LuWbat8BKw",
        "colab_type": "code",
        "outputId": "935889c9-db62-4d0d-81b4-3a0d7d1943fd",
        "colab": {
          "base_uri": "https://localhost:8080/",
          "height": 34
        }
      },
      "source": [
        "len(correct)"
      ],
      "execution_count": 0,
      "outputs": [
        {
          "output_type": "execute_result",
          "data": {
            "text/plain": [
              "122"
            ]
          },
          "metadata": {
            "tags": []
          },
          "execution_count": 240
        }
      ]
    },
    {
      "cell_type": "code",
      "metadata": {
        "id": "I2LPKGqo8J04",
        "colab_type": "code",
        "colab": {}
      },
      "source": [
        ""
      ],
      "execution_count": 0,
      "outputs": []
    },
    {
      "cell_type": "code",
      "metadata": {
        "id": "iZx86SPB75L1",
        "colab_type": "code",
        "outputId": "c7eb8669-03dd-4312-b5d0-f5c8fd4f989f",
        "colab": {
          "base_uri": "https://localhost:8080/",
          "height": 2161
        }
      },
      "source": [
        "correct"
      ],
      "execution_count": 0,
      "outputs": [
        {
          "output_type": "execute_result",
          "data": {
            "text/plain": [
              "[(4, 'Chittoor', 174),\n",
              " (7, 'Guntur', 167),\n",
              " (8, 'Hyderabad', 32),\n",
              " (10, 'Khammam', 175),\n",
              " (12, 'Kurnool', 158),\n",
              " (15, 'Nalgonda', 168),\n",
              " (16, 'Nellore', 169),\n",
              " (17, 'Nizamabad', 247),\n",
              " (20, 'Srikakulam', 251),\n",
              " (23, 'Warangal', 170),\n",
              " (41, 'Bongaigaon', 110),\n",
              " (46, 'Dibrugarh', 136),\n",
              " (48, 'Golaghat', 137),\n",
              " (49, 'Hailakandi', 138),\n",
              " (55, 'Lakhimpur', 177),\n",
              " (57, 'Nagaon', 179),\n",
              " (58, 'Nalbari', 180),\n",
              " (60, 'Sibsagar', 139),\n",
              " (62, 'Tinsukia', 183),\n",
              " (64, 'Aurangabad', 70),\n",
              " (100, 'Chandigarh', 26),\n",
              " (102, 'Bilaspur', 253),\n",
              " (110, 'Korba', 60),\n",
              " (114, 'Raipur', 61),\n",
              " (118, 'Daman', 59),\n",
              " (120, 'Delhi', 3),\n",
              " (127, 'Bharuch', 68),\n",
              " (140, 'Rajkot', 69),\n",
              " (142, 'Surat', 7),\n",
              " (145, 'Vadodara', 94),\n",
              " (149, 'Faridabad', 8),\n",
              " (152, 'Hisar', 113),\n",
              " (173, 'Shimla', 9),\n",
              " (181, 'Jammu', 172),\n",
              " (194, 'Dhanbad', 0),\n",
              " (209, 'Ranchi', 95),\n",
              " (211, 'Saraikela Kharsawan', 186),\n",
              " (216, 'Belgaum', 116),\n",
              " (218, 'Bidar', 259),\n",
              " (219, 'Bijapur', 284),\n",
              " (222, 'Chitradurga', 260),\n",
              " (225, 'Dharwad', 218),\n",
              " (227, 'Gulbarga', 117),\n",
              " (228, 'Hassan', 118),\n",
              " (231, 'Kolar', 262),\n",
              " (233, 'Mandya', 263),\n",
              " (234, 'Mysore', 10),\n",
              " (235, 'Raichur', 264),\n",
              " (236, 'Shimoga', 266),\n",
              " (237, 'Tumkur', 273),\n",
              " (240, 'Alappuzha', 188),\n",
              " (245, 'Kollam', 189),\n",
              " (246, 'Kottayam', 49),\n",
              " (247, 'Kozhikode', 51),\n",
              " (248, 'Malappuram', 190),\n",
              " (249, 'Palakkad', 89),\n",
              " (261, 'Bhopal', 36),\n",
              " (264, 'Chhindwara', 286),\n",
              " (267, 'Dewas', 143),\n",
              " (272, 'Gwalior', 122),\n",
              " (275, 'Indore', 37),\n",
              " (276, 'Jabalpur', 53),\n",
              " (289, 'Sagar', 145),\n",
              " (299, 'Ujjain', 123),\n",
              " (304, 'Akola', 223),\n",
              " (305, 'Amravati', 147),\n",
              " (309, 'Chandrapur', 75),\n",
              " (315, 'Jalgaon', 193),\n",
              " (317, 'Kolhapur', 126),\n",
              " (318, 'Latur', 194),\n",
              " (319, 'Nagpur', 40),\n",
              " (320, 'Nanded', 225),\n",
              " (322, 'Nashik', 77),\n",
              " (325, 'Pune', 12),\n",
              " (327, 'Sangli', 196),\n",
              " (330, 'Solapur', 85),\n",
              " (331, 'Thane', 86),\n",
              " (351, 'Aizawl', 127),\n",
              " (352, 'Champhai', 226),\n",
              " (353, 'Kolasib', 227),\n",
              " (355, 'Lunglei', 228),\n",
              " (359, 'Dimapur', 91),\n",
              " (360, 'Kohima', 201),\n",
              " (367, 'Angul', 13),\n",
              " (373, 'Cuttack', 129),\n",
              " (384, 'Keonjhar', 289),\n",
              " (392, 'Puri', 291),\n",
              " (393, 'Rayagada', 98),\n",
              " (394, 'Sambalpur', 130),\n",
              " (397, 'Karaikal', 276),\n",
              " (401, 'Amritsar', 152),\n",
              " (402, 'Bathinda', 153),\n",
              " (403, 'Faridkot', 292),\n",
              " (407, 'Hoshiarpur', 293),\n",
              " (408, 'Jalandhar', 55),\n",
              " (415, 'Patiala', 81),\n",
              " (417, 'Sangrur', 294),\n",
              " (419, 'Alwar', 65),\n",
              " (434, 'Jaipur', 41),\n",
              " (439, 'Jodhpur', 71),\n",
              " (441, 'Kota', 16),\n",
              " (449, 'Udaipur', 83),\n",
              " (456, 'Coimbatore', 78),\n",
              " (457, 'Cuddalore', 269),\n",
              " (464, 'Madurai', 87),\n",
              " (471, 'Salem', 88),\n",
              " (477, 'Thoothukudi', 132),\n",
              " (488, 'Agra', 18),\n",
              " (490, 'Allahabad', 163),\n",
              " (501, 'Bareilly', 229),\n",
              " (513, 'Firozabad', 101),\n",
              " (515, 'Ghaziabad', 72),\n",
              " (518, 'Gorakhpur', 230),\n",
              " (523, 'Jhansi', 156),\n",
              " (527, 'Kanpur', 43),\n",
              " (532, 'Lucknow', 31),\n",
              " (536, 'Mathura', 231),\n",
              " (538, 'Meerut', 164),\n",
              " (540, 'Moradabad', 232),\n",
              " (546, 'Saharanpur', 234),\n",
              " (562, 'Haridwar', 237),\n",
              " (580, 'Kolkata', 107)]"
            ]
          },
          "metadata": {
            "tags": []
          },
          "execution_count": 239
        }
      ]
    },
    {
      "cell_type": "code",
      "metadata": {
        "id": "jDS0TOVB8L4b",
        "colab_type": "code",
        "colab": {}
      },
      "source": [
        "for i,_,_ in correct:\n",
        "  "
      ],
      "execution_count": 0,
      "outputs": []
    },
    {
      "cell_type": "code",
      "metadata": {
        "id": "AsiL3tAs6gRs",
        "colab_type": "code",
        "outputId": "891de93f-f3bf-4201-8a35-8258c9ab7eaa",
        "colab": {
          "base_uri": "https://localhost:8080/",
          "height": 34
        }
      },
      "source": [
        "print(pollution.District.nunique())"
      ],
      "execution_count": 0,
      "outputs": [
        {
          "output_type": "stream",
          "text": [
            "301\n"
          ],
          "name": "stdout"
        }
      ]
    },
    {
      "cell_type": "code",
      "metadata": {
        "id": "uSig6cjW61y9",
        "colab_type": "code",
        "outputId": "891bb525-fe79-41a6-b82c-3b0880080c46",
        "colab": {
          "base_uri": "https://localhost:8080/",
          "height": 1036
        }
      },
      "source": [
        "pollution.District.unique()"
      ],
      "execution_count": 0,
      "outputs": [
        {
          "output_type": "execute_result",
          "data": {
            "text/plain": [
              "array(['Dhanbad', 'Jharia', 'Sindri', 'Delhi', 'Ponda', 'Vasco', 'Baroda',\n",
              "       'Surat', 'Faridabad', 'Shimla', 'Mysore', 'Cochin', 'Pune',\n",
              "       'Angul', 'Talcher', 'LudhiaNa', 'Kota', 'Madras', 'Agra', 'Anpara',\n",
              "       'Haldia', 'Howrah', 'Bangalore', 'Nagda', 'Pondichery',\n",
              "       'Turicorin', 'Chandigarh', 'Daman Diu & Nagar', 'Ahmedabad',\n",
              "       'Bhilai', 'Dehradoon', 'Lucknow', 'Hyderabad', 'Jamshedpur',\n",
              "       'Paonta Sahib', 'Parwanoo', 'Bhopal', 'Indore', 'SatNa', 'Bombay',\n",
              "       'Nagpur', 'Jaipur', 'Gajroula', 'Kanpur', 'Calcutta', 'Guwahati',\n",
              "       'PatNa', 'Vapi', 'YamuNa Nagar', 'Kottayam', 'Kotttayam',\n",
              "       'Kozhikode', 'Trivendrum', 'Jabalpur', 'Shillong', 'Jalandhar',\n",
              "       'Tuticorin', 'VaraNasi', 'VishakhapatNam', 'Daman', 'Korba',\n",
              "       'Raipur', 'Chandarpur', 'Nalco', 'Rourkela', 'Alwar', 'Panjim',\n",
              "       'Ankleshwar', 'Bharuch', 'Rajkot', 'Aurangabad', 'Jodhpur',\n",
              "       'Ghaziabad', 'Noida, Ghaziabad', 'Dharuhera', 'Chandrapur',\n",
              "       'Dombivli', 'Nashik', 'Coimbatore', 'Noida', 'Damtal', 'Patiala',\n",
              "       'Chittorgarh', 'Udaipur', 'Gobindgarh', 'Solapur', 'Thane',\n",
              "       'Madurai', 'Salem', 'Palakkad', 'JamNagar', 'Dimapur',\n",
              "       'VisakhapatNam', 'PaNaji', 'Vadodara', 'Ranchi', 'Mumbai',\n",
              "       'Bhubaneswar', 'Rayagada', 'Pondicherry', 'ChenNai', 'Firozabad',\n",
              "       'Gajraula', 'Renusagar', 'Dehradun', 'Asansol', 'Durgapur',\n",
              "       'Kolkata', 'Tirupati', 'Vijayawada', 'Bongaigaon', 'Bhilai Nagar',\n",
              "       'Anklesvar', 'Hisar', 'YamuNaNagar', 'Baddi', 'Belgaum',\n",
              "       'Gulbarga', 'Hassan', 'Mangalore', 'Kochi', 'Trivandrum',\n",
              "       'Gwalior', 'Ujjain', 'Aurangabad (MS)', 'Greater Mumbai',\n",
              "       'Kolhapur', 'Aizawl', 'Bhubaneshwar', 'Cuttack', 'Sambalpur',\n",
              "       'Naya Nangal', 'Thoothukudi', 'Durgapur (WB)', 'Patancheru',\n",
              "       'Ramagundam', 'Dibrugarh', 'Golaghat', 'Hailakandi', 'Sibsagar',\n",
              "       'Tezpur', 'Mormugao', 'Nahan', 'Dewas', 'Khajuraho', 'Sagar',\n",
              "       'Singrauli', 'Amravati', 'Lote', 'Navi Mumbai', 'Tarapur',\n",
              "       'Berhampur', 'Amritsar', 'Bathinda', 'Dera Bassi', 'KhanNa',\n",
              "       'Jhansi', 'Khurja', 'Kurnool', 'Silvassa', 'Imphal', 'Balasore',\n",
              "       'Gangtok', 'Allahabad', 'Meerut', 'Baruipur', 'Nalagarh', 'Guntur',\n",
              "       'Nalgonda', 'Nellore', 'Warangal', 'Silchar', 'Jammu', 'Mahad',\n",
              "       'Chittoor', 'Khammam', 'Daranga', 'Lakhimpur', 'Margherita',\n",
              "       'Nagaon', 'Nalbari', 'Silcher', 'Sivasagar', 'Tinsukia', 'Khadoli',\n",
              "       'Kala Amb', 'Saraikela Kharsawan', 'West Singhbhum', 'Alappuzha',\n",
              "       'Kollam', 'Malappuram', 'ThiruvaNanthapuram', 'Badlapur',\n",
              "       'Jalgaon', 'Latur', 'Roha', 'Sangli', 'UlhasNagar', 'Byrnihat',\n",
              "       'Dawki', 'Tura', 'Kohima', 'Dera Baba', 'Barrackpore', 'Raniganj',\n",
              "       'Sankrail', 'South Suburban', 'AmoNa', 'Assanora', 'Bicholim',\n",
              "       'Codli', 'Curchorem', 'Honda', 'Usgao', 'MaNali', 'Sunder Nagar',\n",
              "       'UNa', 'Davangere', 'Dharwad', 'Hubli', 'PathaNamthitta',\n",
              "       'Thissur', 'WayaNad', 'Akola', 'JalNa', 'Nanded', 'Champhai',\n",
              "       'Kolasib', 'Lunglei', 'Bareilly', 'Gorakhpur', 'Mathura',\n",
              "       'Moradabad', 'Rai Bareilly', 'Saharanpur', 'UnNao', 'Haldwani',\n",
              "       'Haridwar', 'Kashipur', 'Rishikesh', 'Rudrapur', 'KakiNada',\n",
              "       'Trichy', 'ANanthapur', 'Eluru', 'Kadapa', 'KarimNagar',\n",
              "       'Nizamabad', 'Ongole', 'Rajahmundry', 'Sangareddy', 'Srikakulam',\n",
              "       'ViziaNagaram', 'Bilaspur', 'Kundaim', 'Mapusa', 'Margao',\n",
              "       'Sanguem', 'Tilamol', 'Bidar', 'Chitradurga', 'Domlur', 'Kolar',\n",
              "       'Mandya', 'Raichur', 'Ranebennur', 'Shimoga', 'Khliehriat',\n",
              "       'Nongstoin', 'Cuddalore', 'Mettur', 'ItaNagar', 'Naharlagun',\n",
              "       'Tumkur', 'Kalinga Nagar', 'Paradeep', 'Karaikal', 'Cuncolim',\n",
              "       'ANKLESHWAR', 'Bhuj', 'MORBI', 'SANaND', 'Sarigam', 'Dharamshala',\n",
              "       'Bijapur', 'Amlai', 'Chhindwara', 'Pithampur', 'Umsning',\n",
              "       'Keonjhar', 'KoNark', 'Puri', 'Faridkot', 'Hoshiarpur', 'Sangrur',\n",
              "       'Kothur', 'DANKUNI', 'Kalyani', 'MALDAH', 'SILIGURI', 'ULUBERIA'],\n",
              "      dtype=object)"
            ]
          },
          "metadata": {
            "tags": []
          },
          "execution_count": 235
        }
      ]
    },
    {
      "cell_type": "code",
      "metadata": {
        "id": "sDgXEZG-y3kH",
        "colab_type": "code",
        "outputId": "9439ca55-1728-4da6-8ffb-b4ca4be525e7",
        "colab": {
          "base_uri": "https://localhost:8080/",
          "height": 199
        }
      },
      "source": [
        "pollution.head()"
      ],
      "execution_count": 0,
      "outputs": [
        {
          "output_type": "execute_result",
          "data": {
            "text/html": [
              "<div>\n",
              "<style scoped>\n",
              "    .dataframe tbody tr th:only-of-type {\n",
              "        vertical-align: middle;\n",
              "    }\n",
              "\n",
              "    .dataframe tbody tr th {\n",
              "        vertical-align: top;\n",
              "    }\n",
              "\n",
              "    .dataframe thead th {\n",
              "        text-align: right;\n",
              "    }\n",
              "</style>\n",
              "<table border=\"1\" class=\"dataframe\">\n",
              "  <thead>\n",
              "    <tr style=\"text-align: right;\">\n",
              "      <th></th>\n",
              "      <th>State</th>\n",
              "      <th>District</th>\n",
              "      <th>Year</th>\n",
              "      <th>Quarter</th>\n",
              "      <th>SO2</th>\n",
              "      <th>NO2</th>\n",
              "      <th>rspm</th>\n",
              "      <th>spm</th>\n",
              "    </tr>\n",
              "  </thead>\n",
              "  <tbody>\n",
              "    <tr>\n",
              "      <th>0</th>\n",
              "      <td>Bihar</td>\n",
              "      <td>Dhanbad</td>\n",
              "      <td>1987</td>\n",
              "      <td>1</td>\n",
              "      <td>17.766667</td>\n",
              "      <td>19.300000</td>\n",
              "      <td>NaN</td>\n",
              "      <td>153.000000</td>\n",
              "    </tr>\n",
              "    <tr>\n",
              "      <th>1</th>\n",
              "      <td>Bihar</td>\n",
              "      <td>Dhanbad</td>\n",
              "      <td>1987</td>\n",
              "      <td>3</td>\n",
              "      <td>10.966667</td>\n",
              "      <td>26.333333</td>\n",
              "      <td>NaN</td>\n",
              "      <td>159.333333</td>\n",
              "    </tr>\n",
              "    <tr>\n",
              "      <th>2</th>\n",
              "      <td>Bihar</td>\n",
              "      <td>Dhanbad</td>\n",
              "      <td>1987</td>\n",
              "      <td>4</td>\n",
              "      <td>23.600000</td>\n",
              "      <td>21.000000</td>\n",
              "      <td>NaN</td>\n",
              "      <td>227.000000</td>\n",
              "    </tr>\n",
              "    <tr>\n",
              "      <th>3</th>\n",
              "      <td>Bihar</td>\n",
              "      <td>Jharia</td>\n",
              "      <td>1987</td>\n",
              "      <td>1</td>\n",
              "      <td>33.966667</td>\n",
              "      <td>36.633333</td>\n",
              "      <td>NaN</td>\n",
              "      <td>481.666667</td>\n",
              "    </tr>\n",
              "    <tr>\n",
              "      <th>4</th>\n",
              "      <td>Bihar</td>\n",
              "      <td>Jharia</td>\n",
              "      <td>1987</td>\n",
              "      <td>2</td>\n",
              "      <td>41.700000</td>\n",
              "      <td>48.600000</td>\n",
              "      <td>NaN</td>\n",
              "      <td>621.000000</td>\n",
              "    </tr>\n",
              "  </tbody>\n",
              "</table>\n",
              "</div>"
            ],
            "text/plain": [
              "   State District  Year  Quarter        SO2        NO2  rspm         spm\n",
              "0  Bihar  Dhanbad  1987        1  17.766667  19.300000   NaN  153.000000\n",
              "1  Bihar  Dhanbad  1987        3  10.966667  26.333333   NaN  159.333333\n",
              "2  Bihar  Dhanbad  1987        4  23.600000  21.000000   NaN  227.000000\n",
              "3  Bihar   Jharia  1987        1  33.966667  36.633333   NaN  481.666667\n",
              "4  Bihar   Jharia  1987        2  41.700000  48.600000   NaN  621.000000"
            ]
          },
          "metadata": {
            "tags": []
          },
          "execution_count": 215
        }
      ]
    },
    {
      "cell_type": "code",
      "metadata": {
        "id": "dD5iwIzM0KXK",
        "colab_type": "code",
        "outputId": "3556cf00-2895-4970-a88c-21beee895aba",
        "colab": {
          "base_uri": "https://localhost:8080/",
          "height": 34
        }
      },
      "source": [
        "pollution.shape"
      ],
      "execution_count": 0,
      "outputs": [
        {
          "output_type": "execute_result",
          "data": {
            "text/plain": [
              "(10700, 8)"
            ]
          },
          "metadata": {
            "tags": []
          },
          "execution_count": 217
        }
      ]
    },
    {
      "cell_type": "code",
      "metadata": {
        "id": "kYvu-sWP0Msm",
        "colab_type": "code",
        "outputId": "630ebe24-8432-4b87-90e1-9e40537b3332",
        "colab": {
          "base_uri": "https://localhost:8080/",
          "height": 157
        }
      },
      "source": [
        "pollution.State.unique()"
      ],
      "execution_count": 0,
      "outputs": [
        {
          "output_type": "execute_result",
          "data": {
            "text/plain": [
              "array(['Bihar', 'Delhi', 'Goa', 'Gujarat', 'HaryaNa', 'Himachal Pradesh',\n",
              "       'KarNataka', 'Kerala', 'Maharashtra', 'Odisha', 'Punjab',\n",
              "       'Rajasthan', 'Tamil Nadu', 'Uttar Pradesh', 'West Bengal',\n",
              "       'Madhya Pradesh', 'Puducherry', 'Chandigarh', 'Daman & Diu',\n",
              "       'Andhra Pradesh', 'Assam', 'Meghalaya', 'Dadra & Nagar Haveli',\n",
              "       'Chhattisgarh', 'Nagaland', 'Jharkhand', 'Uttarakhand', 'Mizoram',\n",
              "       'Uttaranchal', 'Manipur', 'Sikkim', 'Jammu & Kashmir',\n",
              "       'AruNachal Pradesh', 'TelangaNa'], dtype=object)"
            ]
          },
          "metadata": {
            "tags": []
          },
          "execution_count": 218
        }
      ]
    },
    {
      "cell_type": "code",
      "metadata": {
        "id": "CvcmzB600Ym0",
        "colab_type": "code",
        "colab": {}
      },
      "source": [
        "pollution.State=pollution.State.str.replace('N','n')\n",
        "pollution.State=pollution.State.str.replace('&','and')\n",
        "pollution.State=pollution.State.str.replace('Uttarakhand','Uttaranchal')"
      ],
      "execution_count": 0,
      "outputs": []
    },
    {
      "cell_type": "code",
      "metadata": {
        "id": "kwD6pn45zgvP",
        "colab_type": "code",
        "outputId": "d3180dd2-d576-4b2f-d9ed-42a819d26203",
        "colab": {
          "base_uri": "https://localhost:8080/",
          "height": 175
        }
      },
      "source": [
        "pollution.isna().sum()"
      ],
      "execution_count": 0,
      "outputs": [
        {
          "output_type": "execute_result",
          "data": {
            "text/plain": [
              "State          0\n",
              "District       0\n",
              "Year           0\n",
              "Quarter        0\n",
              "SO2          554\n",
              "NO2          320\n",
              "rspm        3571\n",
              "spm         4515\n",
              "dtype: int64"
            ]
          },
          "metadata": {
            "tags": []
          },
          "execution_count": 216
        }
      ]
    },
    {
      "cell_type": "code",
      "metadata": {
        "id": "8fM1fD2t0HHH",
        "colab_type": "code",
        "outputId": "bd93b2ee-2d53-4725-b9c0-8414e76d25b1",
        "colab": {
          "base_uri": "https://localhost:8080/",
          "height": 157
        }
      },
      "source": [
        "pollution.State.unique()"
      ],
      "execution_count": 0,
      "outputs": [
        {
          "output_type": "execute_result",
          "data": {
            "text/plain": [
              "array(['Bihar', 'Delhi', 'Goa', 'Gujarat', 'Haryana', 'Himachal Pradesh',\n",
              "       'Karnataka', 'Kerala', 'Maharashtra', 'Odisha', 'Punjab',\n",
              "       'Rajasthan', 'Tamil nadu', 'Uttar Pradesh', 'West Bengal',\n",
              "       'Madhya Pradesh', 'Puducherry', 'Chandigarh', 'Daman and Diu',\n",
              "       'Andhra Pradesh', 'Assam', 'Meghalaya', 'Dadra and nagar Haveli',\n",
              "       'Chhattisgarh', 'nagaland', 'Jharkhand', 'Uttaranchal', 'Mizoram',\n",
              "       'Manipur', 'Sikkim', 'Jammu and Kashmir', 'Arunachal Pradesh',\n",
              "       'Telangana'], dtype=object)"
            ]
          },
          "metadata": {
            "tags": []
          },
          "execution_count": 220
        }
      ]
    },
    {
      "cell_type": "code",
      "metadata": {
        "id": "CBmVGJ0q09g7",
        "colab_type": "code",
        "colab": {}
      },
      "source": [
        "pollution.State=pollution.State.str.replace('nadu','Nadu')\n",
        "pollution.State=pollution.State.str.replace('nagar','Nagar')\n",
        "pollution.State=pollution.State.str.replace('nagaland','Nagaland')"
      ],
      "execution_count": 0,
      "outputs": []
    },
    {
      "cell_type": "code",
      "metadata": {
        "id": "JZtvOhc81RCV",
        "colab_type": "code",
        "outputId": "c8ceabbb-12f1-4854-976d-4bb83d5c4c18",
        "colab": {
          "base_uri": "https://localhost:8080/",
          "height": 157
        }
      },
      "source": [
        "pollution.State.unique()"
      ],
      "execution_count": 0,
      "outputs": [
        {
          "output_type": "execute_result",
          "data": {
            "text/plain": [
              "array(['Bihar', 'Delhi', 'Goa', 'Gujarat', 'Haryana', 'Himachal Pradesh',\n",
              "       'Karnataka', 'Kerala', 'Maharashtra', 'Odisha', 'Punjab',\n",
              "       'Rajasthan', 'Tamil Nadu', 'Uttar Pradesh', 'West Bengal',\n",
              "       'Madhya Pradesh', 'Puducherry', 'Chandigarh', 'Daman and Diu',\n",
              "       'Andhra Pradesh', 'Assam', 'Meghalaya', 'Dadra and Nagar Haveli',\n",
              "       'Chhattisgarh', 'Nagaland', 'Jharkhand', 'Uttaranchal', 'Mizoram',\n",
              "       'Manipur', 'Sikkim', 'Jammu and Kashmir', 'Arunachal Pradesh',\n",
              "       'Telangana'], dtype=object)"
            ]
          },
          "metadata": {
            "tags": []
          },
          "execution_count": 222
        }
      ]
    },
    {
      "cell_type": "code",
      "metadata": {
        "id": "fo14QtZr1VAr",
        "colab_type": "code",
        "outputId": "be010e88-d5e8-4d08-98f3-7905bc2cde4c",
        "colab": {
          "base_uri": "https://localhost:8080/",
          "height": 1036
        }
      },
      "source": [
        "pollution.District.unique()"
      ],
      "execution_count": 0,
      "outputs": [
        {
          "output_type": "execute_result",
          "data": {
            "text/plain": [
              "array(['Dhanbad', 'Jharia', 'Sindri', 'Delhi', 'Ponda', 'Vasco', 'Baroda',\n",
              "       'Surat', 'Faridabad', 'Shimla', 'Mysore', 'Cochin', 'Pune',\n",
              "       'Angul', 'Talcher', 'LudhiaNa', 'Kota', 'Madras', 'Agra', 'Anpara',\n",
              "       'Haldia', 'Howrah', 'Bangalore', 'Nagda', 'Pondichery',\n",
              "       'Turicorin', 'Chandigarh', 'Daman Diu & Nagar', 'Ahmedabad',\n",
              "       'Bhilai', 'Dehradoon', 'Lucknow', 'Hyderabad', 'Jamshedpur',\n",
              "       'Paonta Sahib', 'Parwanoo', 'Bhopal', 'Indore', 'SatNa', 'Bombay',\n",
              "       'Nagpur', 'Jaipur', 'Gajroula', 'Kanpur', 'Calcutta', 'Guwahati',\n",
              "       'PatNa', 'Vapi', 'YamuNa Nagar', 'Kottayam', 'Kotttayam',\n",
              "       'Kozhikode', 'Trivendrum', 'Jabalpur', 'Shillong', 'Jalandhar',\n",
              "       'Tuticorin', 'VaraNasi', 'VishakhapatNam', 'Daman', 'Korba',\n",
              "       'Raipur', 'Chandarpur', 'Nalco', 'Rourkela', 'Alwar', 'Panjim',\n",
              "       'Ankleshwar', 'Bharuch', 'Rajkot', 'Aurangabad', 'Jodhpur',\n",
              "       'Ghaziabad', 'Noida, Ghaziabad', 'Dharuhera', 'Chandrapur',\n",
              "       'Dombivli', 'Nashik', 'Coimbatore', 'Noida', 'Damtal', 'Patiala',\n",
              "       'Chittorgarh', 'Udaipur', 'Gobindgarh', 'Solapur', 'Thane',\n",
              "       'Madurai', 'Salem', 'Palakkad', 'JamNagar', 'Dimapur',\n",
              "       'VisakhapatNam', 'PaNaji', 'Vadodara', 'Ranchi', 'Mumbai',\n",
              "       'Bhubaneswar', 'Rayagada', 'Pondicherry', 'ChenNai', 'Firozabad',\n",
              "       'Gajraula', 'Renusagar', 'Dehradun', 'Asansol', 'Durgapur',\n",
              "       'Kolkata', 'Tirupati', 'Vijayawada', 'Bongaigaon', 'Bhilai Nagar',\n",
              "       'Anklesvar', 'Hisar', 'YamuNaNagar', 'Baddi', 'Belgaum',\n",
              "       'Gulbarga', 'Hassan', 'Mangalore', 'Kochi', 'Trivandrum',\n",
              "       'Gwalior', 'Ujjain', 'Aurangabad (MS)', 'Greater Mumbai',\n",
              "       'Kolhapur', 'Aizawl', 'Bhubaneshwar', 'Cuttack', 'Sambalpur',\n",
              "       'Naya Nangal', 'Thoothukudi', 'Durgapur (WB)', 'Patancheru',\n",
              "       'Ramagundam', 'Dibrugarh', 'Golaghat', 'Hailakandi', 'Sibsagar',\n",
              "       'Tezpur', 'Mormugao', 'Nahan', 'Dewas', 'Khajuraho', 'Sagar',\n",
              "       'Singrauli', 'Amravati', 'Lote', 'Navi Mumbai', 'Tarapur',\n",
              "       'Berhampur', 'Amritsar', 'Bathinda', 'Dera Bassi', 'KhanNa',\n",
              "       'Jhansi', 'Khurja', 'Kurnool', 'Silvassa', 'Imphal', 'Balasore',\n",
              "       'Gangtok', 'Allahabad', 'Meerut', 'Baruipur', 'Nalagarh', 'Guntur',\n",
              "       'Nalgonda', 'Nellore', 'Warangal', 'Silchar', 'Jammu', 'Mahad',\n",
              "       'Chittoor', 'Khammam', 'Daranga', 'Lakhimpur', 'Margherita',\n",
              "       'Nagaon', 'Nalbari', 'Silcher', 'Sivasagar', 'Tinsukia', 'Khadoli',\n",
              "       'Kala Amb', 'Saraikela Kharsawan', 'West Singhbhum', 'Alappuzha',\n",
              "       'Kollam', 'Malappuram', 'ThiruvaNanthapuram', 'Badlapur',\n",
              "       'Jalgaon', 'Latur', 'Roha', 'Sangli', 'UlhasNagar', 'Byrnihat',\n",
              "       'Dawki', 'Tura', 'Kohima', 'Dera Baba', 'Barrackpore', 'Raniganj',\n",
              "       'Sankrail', 'South Suburban', 'AmoNa', 'Assanora', 'Bicholim',\n",
              "       'Codli', 'Curchorem', 'Honda', 'Usgao', 'MaNali', 'Sunder Nagar',\n",
              "       'UNa', 'Davangere', 'Dharwad', 'Hubli', 'PathaNamthitta',\n",
              "       'Thissur', 'WayaNad', 'Akola', 'JalNa', 'Nanded', 'Champhai',\n",
              "       'Kolasib', 'Lunglei', 'Bareilly', 'Gorakhpur', 'Mathura',\n",
              "       'Moradabad', 'Rai Bareilly', 'Saharanpur', 'UnNao', 'Haldwani',\n",
              "       'Haridwar', 'Kashipur', 'Rishikesh', 'Rudrapur', 'KakiNada',\n",
              "       'Trichy', 'ANanthapur', 'Eluru', 'Kadapa', 'KarimNagar',\n",
              "       'Nizamabad', 'Ongole', 'Rajahmundry', 'Sangareddy', 'Srikakulam',\n",
              "       'ViziaNagaram', 'Bilaspur', 'Kundaim', 'Mapusa', 'Margao',\n",
              "       'Sanguem', 'Tilamol', 'Bidar', 'Chitradurga', 'Domlur', 'Kolar',\n",
              "       'Mandya', 'Raichur', 'Ranebennur', 'Shimoga', 'Khliehriat',\n",
              "       'Nongstoin', 'Cuddalore', 'Mettur', 'ItaNagar', 'Naharlagun',\n",
              "       'Tumkur', 'Kalinga Nagar', 'Paradeep', 'Karaikal', 'Cuncolim',\n",
              "       'ANKLESHWAR', 'Bhuj', 'MORBI', 'SANaND', 'Sarigam', 'Dharamshala',\n",
              "       'Bijapur', 'Amlai', 'Chhindwara', 'Pithampur', 'Umsning',\n",
              "       'Keonjhar', 'KoNark', 'Puri', 'Faridkot', 'Hoshiarpur', 'Sangrur',\n",
              "       'Kothur', 'DANKUNI', 'Kalyani', 'MALDAH', 'SILIGURI', 'ULUBERIA'],\n",
              "      dtype=object)"
            ]
          },
          "metadata": {
            "tags": []
          },
          "execution_count": 223
        }
      ]
    },
    {
      "cell_type": "code",
      "metadata": {
        "id": "AL9sjFjK1Ya9",
        "colab_type": "code",
        "outputId": "aeba40f7-4b83-4409-8ec2-d21e6c290dde",
        "colab": {
          "base_uri": "https://localhost:8080/",
          "height": 284
        }
      },
      "source": [
        "census_2011.head()"
      ],
      "execution_count": 0,
      "outputs": [
        {
          "output_type": "execute_result",
          "data": {
            "text/html": [
              "<div>\n",
              "<style scoped>\n",
              "    .dataframe tbody tr th:only-of-type {\n",
              "        vertical-align: middle;\n",
              "    }\n",
              "\n",
              "    .dataframe tbody tr th {\n",
              "        vertical-align: top;\n",
              "    }\n",
              "\n",
              "    .dataframe thead th {\n",
              "        text-align: right;\n",
              "    }\n",
              "</style>\n",
              "<table border=\"1\" class=\"dataframe\">\n",
              "  <thead>\n",
              "    <tr style=\"text-align: right;\">\n",
              "      <th></th>\n",
              "      <th>Unnamed: 0</th>\n",
              "      <th>#</th>\n",
              "      <th>District</th>\n",
              "      <th>State</th>\n",
              "      <th>Population</th>\n",
              "      <th>Growth</th>\n",
              "      <th>Sex-Ratio</th>\n",
              "      <th>Literacy</th>\n",
              "    </tr>\n",
              "  </thead>\n",
              "  <tbody>\n",
              "    <tr>\n",
              "      <th>0</th>\n",
              "      <td>0</td>\n",
              "      <td>1</td>\n",
              "      <td>Thane</td>\n",
              "      <td>Maharashtra</td>\n",
              "      <td>11060148</td>\n",
              "      <td>36.01 %</td>\n",
              "      <td>886</td>\n",
              "      <td>84.53</td>\n",
              "    </tr>\n",
              "    <tr>\n",
              "      <th>1</th>\n",
              "      <td>1</td>\n",
              "      <td>2</td>\n",
              "      <td>North Twenty Four Parganas</td>\n",
              "      <td>West Bengal</td>\n",
              "      <td>10009781</td>\n",
              "      <td>12.04 %</td>\n",
              "      <td>955</td>\n",
              "      <td>84.06</td>\n",
              "    </tr>\n",
              "    <tr>\n",
              "      <th>2</th>\n",
              "      <td>2</td>\n",
              "      <td>3</td>\n",
              "      <td>Bangalore</td>\n",
              "      <td>Karnataka</td>\n",
              "      <td>9621551</td>\n",
              "      <td>47.18 %</td>\n",
              "      <td>916</td>\n",
              "      <td>87.67</td>\n",
              "    </tr>\n",
              "    <tr>\n",
              "      <th>3</th>\n",
              "      <td>3</td>\n",
              "      <td>4</td>\n",
              "      <td>Pune</td>\n",
              "      <td>Maharashtra</td>\n",
              "      <td>9429408</td>\n",
              "      <td>30.37 %</td>\n",
              "      <td>915</td>\n",
              "      <td>86.15</td>\n",
              "    </tr>\n",
              "    <tr>\n",
              "      <th>4</th>\n",
              "      <td>4</td>\n",
              "      <td>5</td>\n",
              "      <td>Mumbai Suburban</td>\n",
              "      <td>Maharashtra</td>\n",
              "      <td>9356962</td>\n",
              "      <td>8.29 %</td>\n",
              "      <td>860</td>\n",
              "      <td>89.91</td>\n",
              "    </tr>\n",
              "  </tbody>\n",
              "</table>\n",
              "</div>"
            ],
            "text/plain": [
              "   Unnamed: 0  #                    District        State  Population  \\\n",
              "0           0  1                       Thane  Maharashtra    11060148   \n",
              "1           1  2  North Twenty Four Parganas  West Bengal    10009781   \n",
              "2           2  3                   Bangalore    Karnataka     9621551   \n",
              "3           3  4                        Pune  Maharashtra     9429408   \n",
              "4           4  5             Mumbai Suburban  Maharashtra     9356962   \n",
              "\n",
              "    Growth  Sex-Ratio  Literacy  \n",
              "0  36.01 %        886     84.53  \n",
              "1  12.04 %        955     84.06  \n",
              "2  47.18 %        916     87.67  \n",
              "3  30.37 %        915     86.15  \n",
              "4   8.29 %        860     89.91  "
            ]
          },
          "metadata": {
            "tags": []
          },
          "execution_count": 225
        }
      ]
    },
    {
      "cell_type": "code",
      "metadata": {
        "id": "_8FSaVn61kcf",
        "colab_type": "code",
        "outputId": "a67dd335-5944-4e57-c2e8-344cee770153",
        "colab": {
          "base_uri": "https://localhost:8080/",
          "height": 157
        }
      },
      "source": [
        "census_2011.State.unique()"
      ],
      "execution_count": 0,
      "outputs": [
        {
          "output_type": "execute_result",
          "data": {
            "text/plain": [
              "array(['Maharashtra', 'West Bengal', 'Karnataka', 'Gujarat', 'Rajasthan',\n",
              "       'Uttar Pradesh', 'Bihar', 'Andhra Pradesh', 'Tamil Nadu', 'Kerala',\n",
              "       'Chhattisgarh', 'Delhi', 'Orissa', 'Punjab', 'Madhya Pradesh',\n",
              "       'Jharkhand', 'Assam', 'Uttarakhand', 'Haryana', 'Tripura',\n",
              "       'Jammu and Kashmir', 'Himachal Pradesh', 'Chandigarh',\n",
              "       'Puducherry', 'Meghalaya', 'Goa', 'Manipur', 'Mizoram', 'Nagaland',\n",
              "       'Dadra and Nagar Haveli', 'Sikkim', 'Andaman And Nicobar Islands',\n",
              "       'Daman and Diu', 'Arunachal Pradesh', 'Lakshadweep'], dtype=object)"
            ]
          },
          "metadata": {
            "tags": []
          },
          "execution_count": 227
        }
      ]
    },
    {
      "cell_type": "code",
      "metadata": {
        "id": "PCpBBT4X11N9",
        "colab_type": "code",
        "outputId": "dec7540f-1714-4256-fbff-4cc8c680a90a",
        "colab": {
          "base_uri": "https://localhost:8080/",
          "height": 199
        }
      },
      "source": [
        "pop_state_dist.head()"
      ],
      "execution_count": 0,
      "outputs": [
        {
          "output_type": "execute_result",
          "data": {
            "text/html": [
              "<div>\n",
              "<style scoped>\n",
              "    .dataframe tbody tr th:only-of-type {\n",
              "        vertical-align: middle;\n",
              "    }\n",
              "\n",
              "    .dataframe tbody tr th {\n",
              "        vertical-align: top;\n",
              "    }\n",
              "\n",
              "    .dataframe thead th {\n",
              "        text-align: right;\n",
              "    }\n",
              "</style>\n",
              "<table border=\"1\" class=\"dataframe\">\n",
              "  <thead>\n",
              "    <tr style=\"text-align: right;\">\n",
              "      <th></th>\n",
              "      <th>Year</th>\n",
              "      <th>district</th>\n",
              "      <th>state</th>\n",
              "      <th>population</th>\n",
              "    </tr>\n",
              "  </thead>\n",
              "  <tbody>\n",
              "    <tr>\n",
              "      <th>0</th>\n",
              "      <td>2000</td>\n",
              "      <td>Thane</td>\n",
              "      <td>Maharashtra</td>\n",
              "      <td>11,056,829</td>\n",
              "    </tr>\n",
              "    <tr>\n",
              "      <th>1</th>\n",
              "      <td>2000</td>\n",
              "      <td>North Twenty Four Parganas</td>\n",
              "      <td>West Bengal</td>\n",
              "      <td>10,006,778</td>\n",
              "    </tr>\n",
              "    <tr>\n",
              "      <th>2</th>\n",
              "      <td>2000</td>\n",
              "      <td>Bangalore</td>\n",
              "      <td>Karnataka</td>\n",
              "      <td>9,618,664</td>\n",
              "    </tr>\n",
              "    <tr>\n",
              "      <th>3</th>\n",
              "      <td>2000</td>\n",
              "      <td>Pune</td>\n",
              "      <td>Maharashtra</td>\n",
              "      <td>9,426,578</td>\n",
              "    </tr>\n",
              "    <tr>\n",
              "      <th>4</th>\n",
              "      <td>2000</td>\n",
              "      <td>Mumbai Suburban</td>\n",
              "      <td>Maharashtra</td>\n",
              "      <td>9,354,154</td>\n",
              "    </tr>\n",
              "  </tbody>\n",
              "</table>\n",
              "</div>"
            ],
            "text/plain": [
              "   Year                    district        state  population\n",
              "0  2000                       Thane  Maharashtra  11,056,829\n",
              "1  2000  North Twenty Four Parganas  West Bengal  10,006,778\n",
              "2  2000                   Bangalore    Karnataka   9,618,664\n",
              "3  2000                        Pune  Maharashtra   9,426,578\n",
              "4  2000             Mumbai Suburban  Maharashtra   9,354,154"
            ]
          },
          "metadata": {
            "tags": []
          },
          "execution_count": 228
        }
      ]
    },
    {
      "cell_type": "code",
      "metadata": {
        "id": "k1iBx9XM2RJF",
        "colab_type": "code",
        "outputId": "61aadf27-f898-4fea-96c2-481d0fbb077a",
        "colab": {
          "base_uri": "https://localhost:8080/",
          "height": 34
        }
      },
      "source": [
        "pop_state_dist.state.nunique()"
      ],
      "execution_count": 0,
      "outputs": [
        {
          "output_type": "execute_result",
          "data": {
            "text/plain": [
              "35"
            ]
          },
          "metadata": {
            "tags": []
          },
          "execution_count": 229
        }
      ]
    },
    {
      "cell_type": "code",
      "metadata": {
        "id": "JLs6Mn9p2v5J",
        "colab_type": "code",
        "outputId": "6e58f399-5bbf-49da-c985-f95d18cadeaf",
        "colab": {
          "base_uri": "https://localhost:8080/",
          "height": 52
        }
      },
      "source": [
        "pop_state_dist.Year.unique()"
      ],
      "execution_count": 0,
      "outputs": [
        {
          "output_type": "execute_result",
          "data": {
            "text/plain": [
              "array([2000, 2001, 2002, 2003, 2004, 2005, 2006, 2007, 2008, 2009, 2010,\n",
              "       2011, 2012, 2013, 2014, 2015, 2016, 2017, 2018])"
            ]
          },
          "metadata": {
            "tags": []
          },
          "execution_count": 231
        }
      ]
    },
    {
      "cell_type": "code",
      "metadata": {
        "id": "xdr0-4kw214K",
        "colab_type": "code",
        "outputId": "e69acfbb-14c3-4df2-ea63-d73f0de4c466",
        "colab": {
          "base_uri": "https://localhost:8080/",
          "height": 199
        }
      },
      "source": [
        "humidity.head()"
      ],
      "execution_count": 0,
      "outputs": [
        {
          "output_type": "execute_result",
          "data": {
            "text/html": [
              "<div>\n",
              "<style scoped>\n",
              "    .dataframe tbody tr th:only-of-type {\n",
              "        vertical-align: middle;\n",
              "    }\n",
              "\n",
              "    .dataframe tbody tr th {\n",
              "        vertical-align: top;\n",
              "    }\n",
              "\n",
              "    .dataframe thead th {\n",
              "        text-align: right;\n",
              "    }\n",
              "</style>\n",
              "<table border=\"1\" class=\"dataframe\">\n",
              "  <thead>\n",
              "    <tr style=\"text-align: right;\">\n",
              "      <th></th>\n",
              "      <th>STATE</th>\n",
              "      <th>DISTRICT</th>\n",
              "      <th>YEAR</th>\n",
              "      <th>QUARTER</th>\n",
              "      <th>HUMIDITY</th>\n",
              "    </tr>\n",
              "  </thead>\n",
              "  <tbody>\n",
              "    <tr>\n",
              "      <th>0</th>\n",
              "      <td>ANDHRA PRADESH</td>\n",
              "      <td>ADILABAD</td>\n",
              "      <td>1991</td>\n",
              "      <td>1</td>\n",
              "      <td>43.914528</td>\n",
              "    </tr>\n",
              "    <tr>\n",
              "      <th>1</th>\n",
              "      <td>ANDHRA PRADESH</td>\n",
              "      <td>ANANTAPUR</td>\n",
              "      <td>1992</td>\n",
              "      <td>1</td>\n",
              "      <td>43.510740</td>\n",
              "    </tr>\n",
              "    <tr>\n",
              "      <th>2</th>\n",
              "      <td>ANDHRA PRADESH</td>\n",
              "      <td>CHITTOOR</td>\n",
              "      <td>1993</td>\n",
              "      <td>1</td>\n",
              "      <td>43.326922</td>\n",
              "    </tr>\n",
              "    <tr>\n",
              "      <th>3</th>\n",
              "      <td>ANDHRA PRADESH</td>\n",
              "      <td>CUDDAPAH</td>\n",
              "      <td>1994</td>\n",
              "      <td>1</td>\n",
              "      <td>44.005025</td>\n",
              "    </tr>\n",
              "    <tr>\n",
              "      <th>4</th>\n",
              "      <td>ANDHRA PRADESH</td>\n",
              "      <td>EAST GODAVARI</td>\n",
              "      <td>1995</td>\n",
              "      <td>1</td>\n",
              "      <td>43.999297</td>\n",
              "    </tr>\n",
              "  </tbody>\n",
              "</table>\n",
              "</div>"
            ],
            "text/plain": [
              "            STATE       DISTRICT  YEAR  QUARTER   HUMIDITY\n",
              "0  ANDHRA PRADESH       ADILABAD  1991        1  43.914528\n",
              "1  ANDHRA PRADESH      ANANTAPUR  1992        1  43.510740\n",
              "2  ANDHRA PRADESH       CHITTOOR  1993        1  43.326922\n",
              "3  ANDHRA PRADESH       CUDDAPAH  1994        1  44.005025\n",
              "4  ANDHRA PRADESH  EAST GODAVARI  1995        1  43.999297"
            ]
          },
          "metadata": {
            "tags": []
          },
          "execution_count": 241
        }
      ]
    },
    {
      "cell_type": "code",
      "metadata": {
        "id": "1DjtAJoA8x7F",
        "colab_type": "code",
        "outputId": "22163865-07ab-4a65-bff6-9e14fef23924",
        "colab": {
          "base_uri": "https://localhost:8080/",
          "height": 70
        }
      },
      "source": [
        "humidity.YEAR.unique()"
      ],
      "execution_count": 0,
      "outputs": [
        {
          "output_type": "execute_result",
          "data": {
            "text/plain": [
              "array([1991, 1992, 1993, 1994, 1995, 1996, 1997, 1998, 1999, 2000, 2001,\n",
              "       2002, 2003, 2004, 2005, 2006, 2007, 2008, 2009, 2010, 2011, 2012,\n",
              "       2013, 2014])"
            ]
          },
          "metadata": {
            "tags": []
          },
          "execution_count": 244
        }
      ]
    },
    {
      "cell_type": "code",
      "metadata": {
        "id": "HW_i7sT-8hUz",
        "colab_type": "code",
        "outputId": "cee51783-b055-4bdd-d640-728c41ed112e",
        "colab": {
          "base_uri": "https://localhost:8080/",
          "height": 286
        }
      },
      "source": [
        "sns.scatterplot(x='YEAR',y='HUMIDITY',hue='QUARTER',data=humidity,legend='brief');"
      ],
      "execution_count": 0,
      "outputs": [
        {
          "output_type": "display_data",
          "data": {
            "image/png": "[encoded data removed]",
            "text/plain": [
              "<Figure size 432x288 with 1 Axes>"
            ]
          },
          "metadata": {
            "tags": []
          }
        }
      ]
    },
    {
      "cell_type": "code",
      "metadata": {
        "id": "sRWe8AEP8tnd",
        "colab_type": "code",
        "outputId": "cc4fa452-a67d-4847-9695-241a6a0e2437",
        "colab": {
          "base_uri": "https://localhost:8080/",
          "height": 157
        }
      },
      "source": [
        "print(humidity.STATE.unique());print(humidity.STATE.nunique())"
      ],
      "execution_count": 0,
      "outputs": [
        {
          "output_type": "stream",
          "text": [
            "['ANDHRA PRADESH' 'ARUNACHAL PRADESH' 'ASSAM' 'BIHAR' 'CHANDIGARH'\n",
            " 'CHHATTISGARH' 'DADRA & NAGAR HAVELI' 'DAMAN & DIU' 'DELHI' 'GOA'\n",
            " 'GUJARAT' 'HARYANA' 'HIMACHAL PRADESH' 'JAMMU & KASHMIR' 'JHARKHAND'\n",
            " 'KARNATAKA' 'KERELA' 'LAKSHADWEEP' 'MADHYA PRADESH' 'MAHARASHTRA'\n",
            " 'MANIPUR' 'MEGHALAYA' 'MIZORAM' 'NAGALAND' 'ORISSA' 'PONDICHERRY'\n",
            " 'PUNJAB' 'RAJASTHAN' 'SIKKIM' 'TAMIL NADU' 'TRIPURA' 'UTTAR PRADESH'\n",
            " 'UTTARANCHAL' 'WESTBENGAL']\n",
            "34\n"
          ],
          "name": "stdout"
        }
      ]
    },
    {
      "cell_type": "code",
      "metadata": {
        "id": "3yG6Skdy-vgb",
        "colab_type": "code",
        "outputId": "d11ac664-2d96-4d65-ee1f-a493a01991df",
        "colab": {
          "base_uri": "https://localhost:8080/",
          "height": 1651
        }
      },
      "source": [
        "print(humidity.DISTRICT.unique())"
      ],
      "execution_count": 0,
      "outputs": [
        {
          "output_type": "stream",
          "text": [
            "['ADILABAD' 'ANANTAPUR' 'CHITTOOR' 'CUDDAPAH' 'EAST GODAVARI' 'GUNTUR'\n",
            " 'HYDERABAD' 'KARIMNAGAR' 'KHAMMAM' 'KRISHNA' 'KURNOOL' 'MAHBUBNAGAR'\n",
            " 'MEDAK' 'NALGONDA' 'NELLORE' 'NIZAMABAD' 'PRAKASAM' 'RANGAREDDI'\n",
            " 'SRIKAKULAM' 'VISAKHAPATNAM' 'VIZIANAGARAM' 'WARANGAL' 'WEST GODAVARI'\n",
            " 'CHANGLANG' 'DIBANG VALLEY' 'EAST KAMENG' 'EAST SIANG' 'LOHIT'\n",
            " 'LOWER SUBANSIRI' 'TAWANG' 'TIRAP' 'UPPER SUBANSIRI' 'WEST KAMENG'\n",
            " 'WEST SIANG' 'BARPETA' 'CACHAR' 'DARRANG' 'DHEMAJI' 'DHUBRI' 'DIBRUGARH'\n",
            " 'GOALPARA' 'GOLAGHAT' 'HAILAKANDI' 'JORHAT' 'KAMRUP' 'KARBI ANGLONG'\n",
            " 'KARIMGANJ' 'KOKRAJHAR' 'LAKHIMPUR' 'NAGAON' 'NALBARI'\n",
            " 'NORTH CACHAR HILLS' 'SIBSAGAR' 'SONITPUR' 'TINSUKIA' 'ARARIA'\n",
            " 'AURANGABAD' 'BANKA' 'BEGUSARAI' 'BHAGALPUR' 'BHOJPUR' 'BUXAR'\n",
            " 'DARBHANGA' 'GAYA' 'GOPALGANJ' 'JAMUI' 'JEHANABAD' 'KAIMUR (BHABUA)'\n",
            " 'KATIHAR' 'KHAGARIA' 'KISHANGANJ' 'LAKHISARAI' 'MADHEPURA' 'MADHUBANI'\n",
            " 'MUNGER' 'MUZAFFARPUR' 'NALANDA' 'NAWADA' 'PASHCHIM CHAMPARAN' 'PATNA'\n",
            " 'PURBA CHAMPARAN' 'PURNIA' 'ROHTAS' 'SAHARSA' 'SAMASTIPUR' 'SARAN'\n",
            " 'SHEIKHPURA' 'SHEOHAR' 'SITAMARHI' 'SIWAN' 'SUPAUL' 'VAISHALI'\n",
            " 'CHANDIGARH' 'BASTAR' 'BILASPUR' 'DANTEWADA' 'DHAMTARI' 'DURG'\n",
            " 'JANJGIR-CHAMPA' 'JASHPUR' 'KANKER' 'KAWARDHA' 'KORBA' 'KORIYA'\n",
            " 'MAHASAMUND' 'RAIGARH' 'RAIPUR' 'RAJNANDGAON' 'SURGUJA'\n",
            " 'DADRA & NAGAR HAVELI' 'DAMAN' 'DIU' 'NEW DELHI' 'NORTH GOA' 'SOUTH GOA'\n",
            " 'AHMADABAD' 'AMRELI' 'ANAND' 'BANAS KANTHA' 'BHARUCH' 'BHAVNAGAR' 'DOHAD'\n",
            " 'GANDHINAGAR' 'JAMNAGAR' 'JUNAGADH' 'KACHCHH' 'KHEDA' 'MAHESANA'\n",
            " 'NARMADA' 'NAVSARI' 'PANCH MAHALS' 'PATAN' 'PORBANDAR' 'RAJKOT'\n",
            " 'SABAR KANTHA' 'SURAT' 'SURENDRANAGAR' 'THE DANGS' 'VADODARA' 'VALSAD'\n",
            " 'AMBALA' 'BHIWANI' 'FARIDABAD' 'FATEHABAD' 'GURGAON' 'HISAR' 'JHAJJAR'\n",
            " 'JIND' 'KAITHAL' 'KARNAL' 'KURUKSHETRA' 'MAHENDRAGARH' 'PANCHKULA'\n",
            " 'PANIPAT' 'REWARI' 'ROHTAK' 'SIRSA' 'SONIPAT' 'YAMUNANAGAR' 'CHAMBA'\n",
            " 'HAMIRPUR' 'KANGRA' 'KINNAUR' 'KULLU' 'LAHUL & SPITI' 'MANDI' 'SHIMLA'\n",
            " 'SIRMAUR' 'SOLAN' 'UNA' 'ANANTANAG' 'BADGAM' 'BARAMULA' 'DODA' 'JAMMU'\n",
            " 'KARGIL' 'KATHUA' 'KUPWARA' 'LEH (LADAKH)' 'PULWAMA' 'PUNCH' 'RAJAURI'\n",
            " 'SRINAGAR' 'UDHAMPUR' 'BOKARO' 'CHATRA' 'DEOGHAR' 'DHANBAD' 'DUMKA'\n",
            " 'GARHWA' 'GIRIDIH' 'GODDA' 'GUMLA' 'HAZARIBAGH' 'KODARMA' 'LOHARDAGA'\n",
            " 'PAKAUR' 'PALAMU' 'PASHCHIMI SINGHBHUM' 'PURBI SINGHBHUM' 'RANCHI'\n",
            " 'SAHIBGANJ' 'BAGALKOT' 'BANGALORE' 'BANGALORE RURAL' 'BELGAUM' 'BELLARY'\n",
            " 'BIDAR' 'BIJAPUR' 'CHAMARAJANAGAR' 'CHIKMAGALUR' 'CHITRADURGA'\n",
            " 'DAKSHINA KANNADA' 'DAVANAGERE' 'DHARWAD' 'GADAG' 'GULBARGA' 'HASSAN'\n",
            " 'HAVERI' 'KODAGU' 'KOLAR' 'KOPPAL' 'MANDYA' 'MYSORE' 'RAICHUR' 'SHIMOGA'\n",
            " 'TUMKUR' 'UDUPI' 'UTTARA KANNADA' 'ALAPPUZHA' 'ERNAKULAM' 'IDUKKI'\n",
            " 'KANNUR' 'KASARAGOD' 'KOLLAM' 'KOTTAYAM' 'KOZHIKODE' 'MALAPPURAM'\n",
            " 'PALAKKAD' 'PATHANAMTHITTA' 'THIRUVANANTHAPURAM' 'THRISSUR' 'WAYANAD'\n",
            " 'LAKSHADWEEP' 'BALAGHAT' 'BARWANI' 'BETUL' 'BHIND' 'BHOPAL' 'CHHATARPUR'\n",
            " 'CHHINDWARA' 'DAMOH' 'DATIA' 'DEWAS' 'DHAR' 'DINDORI' 'EAST NIMAR' 'GUNA'\n",
            " 'GWALIOR' 'HARDA' 'HOSHANGABAD' 'INDORE' 'JABALPUR' 'JHABUA' 'KATNI'\n",
            " 'MANDLA' 'MANDSAUR' 'MORENA' 'NARSIMHAPUR' 'NEEMUCH' 'PANNA' 'RAISEN'\n",
            " 'RAJGARH' 'RATLAM' 'REWA' 'SAGAR' 'SATNA' 'SEHORE' 'SEONI' 'SHAHDOL'\n",
            " 'SHAJAPUR' 'SHEOPUR' 'SHIVPURI' 'SIDHI' 'TIKAMGARH' 'UJJAIN' 'UMARIA'\n",
            " 'VIDISHA' 'WEST NIMAR' 'AHMADNAGAR' 'AKOLA' 'AMRAVATI' 'BHANDARA' 'BID'\n",
            " 'BULDANA' 'CHANDRAPUR' 'DHULE' 'GADCHIROLI' 'GONDIYA' 'HINGOLI' 'JALGAON'\n",
            " 'JALNA' 'KOLHAPUR' 'LATUR' 'MUMBAI' 'MUMBAI (SUBURBAN)' 'NAGPUR' 'NANDED'\n",
            " 'NANDURBAR' 'NASHIK' 'OSMANABAD' 'PARBHANI' 'PUNE' 'RATNAGIRI' 'SANGLI'\n",
            " 'SATARA' 'SINDHUDURG' 'SOLAPUR' 'THANE' 'WARDHA' 'WASHIM' 'YAVATMAL'\n",
            " 'BISHNUPUR' 'CHANDEL' 'CHURACHANDPUR' 'IMPHAL EAST' 'IMPHAL WEST'\n",
            " 'SENAPATI' 'TAMENGLONG' 'THOUBAL' 'UKHRUL' 'EAST GARO HILLS'\n",
            " 'EAST KHASI HILLS' 'JAINTIA HILLS' 'WEST GARO HILLS' 'WEST KHASI HILLS'\n",
            " 'AIZAWL' 'CHAMPHAI' 'KOLASIB' 'LAWNGTLAI' 'LUNGLEI' 'MAMIT' 'SAIHA'\n",
            " 'KOHIMA' 'MOKOKCHUNG' 'MON' 'PHEK' 'TUENSANG' 'WOKHA' 'ZUNHEBOTO'\n",
            " 'ANUGUL' 'BALANGIR' 'BALESHWAR' 'BARGARH' 'BAUDH' 'BHADRAK' 'CUTTACK'\n",
            " 'DEBAGARH' 'DHENKANAL' 'GAJAPATI' 'GANJAM' 'JAGATSINGHAPUR' 'JAJAPUR'\n",
            " 'JHARSUGUDA' 'KALAHANDI' 'KANDHAMAL' 'KENDRAPARA' 'KENDUJHAR' 'KHORDHA'\n",
            " 'KORAPUT' 'MALKANGIRI' 'MAYURBHANJ' 'NABARANGAPUR' 'NAYAGARH' 'NUAPADA'\n",
            " 'PURI' 'RAYAGADA' 'SAMBALPUR' 'SONAPUR' 'SUNDARGARH' 'KARAIKAL' 'MAHE'\n",
            " 'PONDICHERRY' 'YANAM' 'AMRITSAR' 'BATHINDA' 'FARIDKOT' 'FATEHGARH SAHIB'\n",
            " 'FIROZPUR' 'GURDASPUR' 'HOSHIARPUR' 'JALANDHAR' 'KAPURTHALA' 'LUDHIANA'\n",
            " 'MANSA' 'MOGA' 'MUKTSAR' 'NAWANSHAHR' 'PATIALA' 'RUPNAGAR' 'SANGRUR'\n",
            " 'AJMER' 'ALWAR' 'BANSWARA' 'BARAN' 'BARMER' 'BHARATPUR' 'BHILWARA'\n",
            " 'BIKANER' 'BUNDI' 'CHITTAURGARH' 'CHURU' 'DAUSA' 'DHAULPUR' 'DUNGARPUR'\n",
            " 'GANGANAGAR' 'HANUMANGARH' 'JAIPUR' 'JAISALMER' 'JALOR' 'JHALAWAR'\n",
            " 'JHUNJHUNUN' 'JODHPUR' 'KARAULI' 'KOTA' 'NAGAUR' 'PALI' 'RAJSAMAND'\n",
            " 'SAWAI MADHOPUR' 'SIKAR' 'SIROHI' 'TONK' 'UDAIPUR' 'EAST SIKKIM'\n",
            " 'NORTH SIKKIM' 'SOUTH SIKKIM' 'WEST SIKKIM' 'ARIYALUR' 'CHENNAI'\n",
            " 'COIMBATORE' 'CUDDALORE' 'DHARMAPURI' 'DINDIGUL' 'ERODE' 'KANCHEEPURAM'\n",
            " 'KANNIYAKUMARI' 'KARUR' 'MADURAI' 'NAGAPATTINAM' 'NAMAKKAL' 'PERAMBALUR'\n",
            " 'PUDUKKOTTAI' 'RAMANATHAPURAM' 'SALEM' 'SIVAGANGA' 'THANJAVUR' 'THENI'\n",
            " 'THE NILGIRIS' 'THIRUVALLUR' 'THIRUVARUR' 'THOOTHUKKUDI' 'TIRUCHIRAPALLI'\n",
            " 'TIRUNELVELI' 'TIRUVANNAMALAI' 'VELLORE' 'VILUPPURAM' 'VIRUDHUNAGAR'\n",
            " 'DHALAI' 'NORTH TRIPURA' 'SOUTH TRIPURA' 'WEST TRIPURA' 'AGRA' 'ALIGARH'\n",
            " 'ALLAHABAD' 'AMBEDKAR NAGAR' 'AURAIYA' 'AZAMGARH' 'BAGHPAT' 'BAHRAICH'\n",
            " 'BALLIA' 'BALRAMPUR' 'BANDA' 'BARABANKI' 'BAREILLY' 'BASTI' 'BIJNOR'\n",
            " 'BUDAUN' 'BULANDSHAHAR' 'CHANDAULI' 'CHITRAKOOT' 'DEORIA' 'ETAH' 'ETAWAH'\n",
            " 'FAIZABAD' 'FARRUKHABAD' 'FATEHPUR' 'FIROZABAD' 'GAUTAM BUDDHA NAGAR'\n",
            " 'GHAZIABAD' 'GHAZIPUR' 'GONDA' 'GORAKHPUR' 'HARDOI' 'HATHRAS' 'JALAUN'\n",
            " 'JAUNPUR' 'JHANSI' 'JYOTIBA PHULE NAGAR' 'KANNAUJ' 'KANPUR DEHAT'\n",
            " 'KANPUR NAGAR' 'KAUSHAMBI' 'KHERI' 'KUSHINAGAR' 'LALITPUR' 'LUCKNOW'\n",
            " 'MAHARAJGANJ' 'MAHOBA' 'MAINPURI' 'MATHURA' 'MAU' 'MEERUT' 'MIRZAPUR'\n",
            " 'MORADABAD' 'MUZAFFARNAGAR' 'PILIBHIT' 'PRATAPGARH' 'RAE BARELI' 'RAMPUR'\n",
            " 'SAHARANPUR' 'SANT KABIR NAGAR' 'SANT RAVIDAS NAGAR' 'SHAHJAHANPUR'\n",
            " 'SHRAWASTI' 'SIDDHARTHNAGAR' 'SITAPUR' 'SONBHADRA' 'SULTANPUR' 'UNNAO'\n",
            " 'VARANASI' 'ALMORA' 'BAGESHWAR' 'CHAMOLI' 'CHAMPAWAT' 'DEHRADUN'\n",
            " 'GARHWAL' 'HARDWAR' 'NAINITAL' 'PITHORAGARH' 'RUDRAPRAYAG'\n",
            " 'TEHRI GARHWAL' 'UDHAM SINGH NAGAR' 'UTTARKASHI' 'BANKURA' 'BARDDHAMAN'\n",
            " 'DARJILING' 'HAORA' 'HUGLI' 'JALPAIGURI' 'KOCH BIHAR' 'KOLKATA' 'MALDAH'\n",
            " 'MEDINIPUR' 'MURSHIDABAD' 'NADIA' 'NORTH TWENTY FOUR PARGANA' 'PURULIYA'\n",
            " 'SOUTH TWENTY FOUR PARGANA' 'UTTAR DINAJPUR']\n"
          ],
          "name": "stdout"
        }
      ]
    },
    {
      "cell_type": "code",
      "metadata": {
        "id": "gIjBR-qC9xIP",
        "colab_type": "code",
        "outputId": "12b82b07-dc06-477f-ab43-13a527509456",
        "colab": {
          "base_uri": "https://localhost:8080/",
          "height": 199
        }
      },
      "source": [
        "rainfall.head()"
      ],
      "execution_count": 0,
      "outputs": [
        {
          "output_type": "execute_result",
          "data": {
            "text/html": [
              "<div>\n",
              "<style scoped>\n",
              "    .dataframe tbody tr th:only-of-type {\n",
              "        vertical-align: middle;\n",
              "    }\n",
              "\n",
              "    .dataframe tbody tr th {\n",
              "        vertical-align: top;\n",
              "    }\n",
              "\n",
              "    .dataframe thead th {\n",
              "        text-align: right;\n",
              "    }\n",
              "</style>\n",
              "<table border=\"1\" class=\"dataframe\">\n",
              "  <thead>\n",
              "    <tr style=\"text-align: right;\">\n",
              "      <th></th>\n",
              "      <th>State</th>\n",
              "      <th>District</th>\n",
              "      <th>Year</th>\n",
              "      <th>quarter</th>\n",
              "      <th>rainfall</th>\n",
              "    </tr>\n",
              "  </thead>\n",
              "  <tbody>\n",
              "    <tr>\n",
              "      <th>0</th>\n",
              "      <td>Andaman and Nicobar Islands</td>\n",
              "      <td>Andaman</td>\n",
              "      <td>2004</td>\n",
              "      <td>1</td>\n",
              "      <td>194.1</td>\n",
              "    </tr>\n",
              "    <tr>\n",
              "      <th>1</th>\n",
              "      <td>Andaman and Nicobar Islands</td>\n",
              "      <td>Nicobar</td>\n",
              "      <td>2004</td>\n",
              "      <td>1</td>\n",
              "      <td>232.4</td>\n",
              "    </tr>\n",
              "    <tr>\n",
              "      <th>2</th>\n",
              "      <td>Andaman and Nicobar Islands</td>\n",
              "      <td>Andaman</td>\n",
              "      <td>2004</td>\n",
              "      <td>2</td>\n",
              "      <td>1033.6</td>\n",
              "    </tr>\n",
              "    <tr>\n",
              "      <th>3</th>\n",
              "      <td>Andaman and Nicobar Islands</td>\n",
              "      <td>Nicobar</td>\n",
              "      <td>2004</td>\n",
              "      <td>2</td>\n",
              "      <td>799.2</td>\n",
              "    </tr>\n",
              "    <tr>\n",
              "      <th>4</th>\n",
              "      <td>Andaman and Nicobar Islands</td>\n",
              "      <td>Andaman</td>\n",
              "      <td>2004</td>\n",
              "      <td>3</td>\n",
              "      <td>920.8</td>\n",
              "    </tr>\n",
              "  </tbody>\n",
              "</table>\n",
              "</div>"
            ],
            "text/plain": [
              "                         State District  Year  quarter  rainfall\n",
              "0  Andaman and Nicobar Islands  Andaman  2004        1     194.1\n",
              "1  Andaman and Nicobar Islands  Nicobar  2004        1     232.4\n",
              "2  Andaman and Nicobar Islands  Andaman  2004        2    1033.6\n",
              "3  Andaman and Nicobar Islands  Nicobar  2004        2     799.2\n",
              "4  Andaman and Nicobar Islands  Andaman  2004        3     920.8"
            ]
          },
          "metadata": {
            "tags": []
          },
          "execution_count": 247
        }
      ]
    },
    {
      "cell_type": "code",
      "metadata": {
        "id": "u1OgoGSV-IIj",
        "colab_type": "code",
        "outputId": "731c508e-5ef9-4987-c7d5-b8e09f0ebab3",
        "colab": {
          "base_uri": "https://localhost:8080/",
          "height": 34
        }
      },
      "source": [
        "rainfall.Year.unique()"
      ],
      "execution_count": 0,
      "outputs": [
        {
          "output_type": "execute_result",
          "data": {
            "text/plain": [
              "array([2004, 2005, 2006, 2007, 2008, 2009, 2010, 2001, 2002, 2003])"
            ]
          },
          "metadata": {
            "tags": []
          },
          "execution_count": 249
        }
      ]
    },
    {
      "cell_type": "code",
      "metadata": {
        "id": "tCB22i8j9zav",
        "colab_type": "code",
        "outputId": "eb33b678-9e8c-4dc8-f33d-70302ea99e11",
        "colab": {
          "base_uri": "https://localhost:8080/",
          "height": 286
        }
      },
      "source": [
        "sns.scatterplot(x='Year',y='rainfall',hue='quarter',data=rainfall,legend='brief');"
      ],
      "execution_count": 0,
      "outputs": [
        {
          "output_type": "display_data",
          "data": {
            "image/png": "[encoded data removed]",
            "text/plain": [
              "<Figure size 432x288 with 1 Axes>"
            ]
          },
          "metadata": {
            "tags": []
          }
        }
      ]
    },
    {
      "cell_type": "code",
      "metadata": {
        "id": "8DkgLKmN-E2V",
        "colab_type": "code",
        "outputId": "b36f8b80-1140-41fa-9225-cc169acf0ef9",
        "colab": {
          "base_uri": "https://localhost:8080/",
          "height": 199
        }
      },
      "source": [
        "temperature.head()"
      ],
      "execution_count": 0,
      "outputs": [
        {
          "output_type": "execute_result",
          "data": {
            "text/html": [
              "<div>\n",
              "<style scoped>\n",
              "    .dataframe tbody tr th:only-of-type {\n",
              "        vertical-align: middle;\n",
              "    }\n",
              "\n",
              "    .dataframe tbody tr th {\n",
              "        vertical-align: top;\n",
              "    }\n",
              "\n",
              "    .dataframe thead th {\n",
              "        text-align: right;\n",
              "    }\n",
              "</style>\n",
              "<table border=\"1\" class=\"dataframe\">\n",
              "  <thead>\n",
              "    <tr style=\"text-align: right;\">\n",
              "      <th></th>\n",
              "      <th>STATE</th>\n",
              "      <th>DISTRICT</th>\n",
              "      <th>YEAR</th>\n",
              "      <th>quarter</th>\n",
              "      <th>id</th>\n",
              "      <th>avg temp</th>\n",
              "    </tr>\n",
              "  </thead>\n",
              "  <tbody>\n",
              "    <tr>\n",
              "      <th>0</th>\n",
              "      <td>GUJARAT</td>\n",
              "      <td>AHMADABAD</td>\n",
              "      <td>2003</td>\n",
              "      <td>1</td>\n",
              "      <td>1</td>\n",
              "      <td>20.463742</td>\n",
              "    </tr>\n",
              "    <tr>\n",
              "      <th>1</th>\n",
              "      <td>GUJARAT</td>\n",
              "      <td>AMRELI</td>\n",
              "      <td>2003</td>\n",
              "      <td>1</td>\n",
              "      <td>2</td>\n",
              "      <td>20.457956</td>\n",
              "    </tr>\n",
              "    <tr>\n",
              "      <th>2</th>\n",
              "      <td>GUJARAT</td>\n",
              "      <td>ANAND</td>\n",
              "      <td>2003</td>\n",
              "      <td>1</td>\n",
              "      <td>3</td>\n",
              "      <td>20.457246</td>\n",
              "    </tr>\n",
              "    <tr>\n",
              "      <th>3</th>\n",
              "      <td>GUJARAT</td>\n",
              "      <td>BANAS KANTHA</td>\n",
              "      <td>2003</td>\n",
              "      <td>1</td>\n",
              "      <td>4</td>\n",
              "      <td>20.463722</td>\n",
              "    </tr>\n",
              "    <tr>\n",
              "      <th>4</th>\n",
              "      <td>GUJARAT</td>\n",
              "      <td>BHARUCH</td>\n",
              "      <td>2003</td>\n",
              "      <td>1</td>\n",
              "      <td>5</td>\n",
              "      <td>20.479495</td>\n",
              "    </tr>\n",
              "  </tbody>\n",
              "</table>\n",
              "</div>"
            ],
            "text/plain": [
              "     STATE      DISTRICT  YEAR  quarter  id   avg temp\n",
              "0  GUJARAT     AHMADABAD  2003        1   1  20.463742\n",
              "1  GUJARAT        AMRELI  2003        1   2  20.457956\n",
              "2  GUJARAT         ANAND  2003        1   3  20.457246\n",
              "3  GUJARAT  BANAS KANTHA  2003        1   4  20.463722\n",
              "4  GUJARAT       BHARUCH  2003        1   5  20.479495"
            ]
          },
          "metadata": {
            "tags": []
          },
          "execution_count": 257
        }
      ]
    },
    {
      "cell_type": "code",
      "metadata": {
        "id": "BOGu8olE-_tu",
        "colab_type": "code",
        "outputId": "bd2aed37-36d5-42d4-cedb-deaa018ddef3",
        "colab": {
          "base_uri": "https://localhost:8080/",
          "height": 286
        }
      },
      "source": [
        "sns.scatterplot(x='YEAR',y='avg temp',hue='quarter',data=temperature,legend='brief');"
      ],
      "execution_count": 0,
      "outputs": [
        {
          "output_type": "display_data",
          "data": {
            "image/png": "[encoded data removed]",
            "text/plain": [
              "<Figure size 432x288 with 1 Axes>"
            ]
          },
          "metadata": {
            "tags": []
          }
        }
      ]
    },
    {
      "cell_type": "code",
      "metadata": {
        "id": "BNVkND5p_J38",
        "colab_type": "code",
        "colab": {}
      },
      "source": [
        ""
      ],
      "execution_count": 0,
      "outputs": []
    }
  ]
}